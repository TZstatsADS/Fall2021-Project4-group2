{
  "nbformat": 4,
  "nbformat_minor": 0,
  "metadata": {
    "colab": {
      "name": "proj4.ipynb",
      "provenance": [],
      "collapsed_sections": []
    },
    "kernelspec": {
      "name": "python3",
      "display_name": "Python 3"
    },
    "language_info": {
      "name": "python"
    },
    "accelerator": "GPU"
  },
  "cells": [
    {
      "cell_type": "code",
      "source": [
        "!pip install aif360\n",
        "!pip install fairlearn"
      ],
      "metadata": {
        "id": "BxeqwOkbXXqY"
      },
      "execution_count": null,
      "outputs": []
    },
    {
      "cell_type": "code",
      "source": [
        "%matplotlib inline\n",
        "import pandas as pd\n",
        "import numpy as np\n",
        "import random\n",
        "\n",
        "# for efficiency comparison\n",
        "from time import time\n",
        "\n",
        "import matplotlib\n",
        "import matplotlib.pyplot as plt\n",
        "import matplotlib.patches as patches\n",
        "plt.style.use('seaborn-white')\n",
        "import seaborn as sns\n",
        "\n",
        "\n",
        "#from aif360.datasets import BinaryLabelDataset\n",
        "#from aif360.metrics import BinaryLabelDatasetMetric, ClassificationMetric\n",
        "#from aif360.algorithms.inprocessing import PrejudiceRemover\n",
        "\n",
        "from sklearn import metrics\n",
        "from sklearn.metrics import confusion_matrix, accuracy_score, f1_score, roc_curve, auc\n",
        "from sklearn.preprocessing import MinMaxScaler, LabelEncoder\n",
        "from sklearn.ensemble import RandomForestClassifier\n",
        "import tensorflow as tf\n",
        "from sklearn.model_selection import train_test_split\n",
        "from sklearn import calibration\n",
        "\n",
        "from scipy.spatial import distance\n",
        "import scipy.optimize as optim\n",
        "\n",
        "from IPython.display import Markdown, display\n",
        "import warnings\n",
        "warnings.filterwarnings(\"ignore\")"
      ],
      "metadata": {
        "id": "_lUBsBMvH2_X"
      },
      "execution_count": 3,
      "outputs": []
    },
    {
      "cell_type": "markdown",
      "metadata": {
        "id": "ugHkk3ik31Qn"
      },
      "source": [
        "# Data Preprocessing\n"
      ]
    },
    {
      "cell_type": "code",
      "metadata": {
        "id": "MTDMjlZd4NH0",
        "colab": {
          "base_uri": "https://localhost:8080/"
        },
        "outputId": "b6a68e50-dba4-4303-da38-a2f3868568ce"
      },
      "source": [
        "# load csv\n",
        "raw_data = pd.read_csv('../data/compas-scores-two-years.csv')\n",
        "raw_data.shape[0]"
      ],
      "execution_count": 4,
      "outputs": [
        {
          "output_type": "execute_result",
          "data": {
            "text/plain": [
              "7214"
            ]
          },
          "metadata": {},
          "execution_count": 4
        }
      ]
    },
    {
      "cell_type": "markdown",
      "source": [
        "### (1) Data Cleaning\n",
        "\n",
        "However not all of the rows are usable for analysis.\n",
        "\n",
        "There are a number of reasons to remove rows because of missing data: * If the charge date of a defendants Compas scored crime was not within 30 days from when the person was arrested, we assume that because of data quality reasons, that we do not have the right offense;\n",
        "\n",
        "- In a similar vein, ordinary traffic offenses (i.e., those with a c_charge_degree of O) will not result in Jail are removed;\n"
      ],
      "metadata": {
        "id": "nNHzD9kMU5yn"
      }
    },
    {
      "cell_type": "code",
      "source": [
        "df = raw_data[['age', 'c_charge_degree', 'race', 'age_cat',\n",
        "                    'score_text', 'sex', 'priors_count', 'days_b_screening_arrest',\n",
        "                    'decile_score', 'is_recid', 'c_jail_in',\n",
        "                    'c_jail_out', 'two_year_recid']]\\\n",
        "                    .query('days_b_screening_arrest <= 30')\\\n",
        "                    .query('days_b_screening_arrest >= -30')\\\n",
        "                    .query('is_recid != -1')\\\n",
        "                    .query('c_charge_degree != \"O\"')\\\n",
        "                    .query('score_text != \"N/A\"')\n",
        "df.shape[0]"
      ],
      "metadata": {
        "colab": {
          "base_uri": "https://localhost:8080/"
        },
        "id": "hrQDwNLfVF0N",
        "outputId": "f71fcf45-6fb1-483e-caf5-87ecd6f0efd8"
      },
      "execution_count": 5,
      "outputs": [
        {
          "output_type": "execute_result",
          "data": {
            "text/plain": [
              "6172"
            ]
          },
          "metadata": {},
          "execution_count": 5
        }
      ]
    },
    {
      "cell_type": "code",
      "source": [
        "from datetime import datetime\n",
        "\n",
        "dt1 = list(map(lambda x: datetime.strptime(x,'%Y-%m-%d %H:%M:%S').date(), df['c_jail_out']))\n",
        "dt2 = list(map(lambda x: datetime.strptime(x,'%Y-%m-%d %H:%M:%S').date(), df['c_jail_in']))\n",
        "\n",
        "len_stay = [(a-b).days for a,b in zip(dt1,dt2)]\n"
      ],
      "metadata": {
        "id": "VTeiWICJapmv"
      },
      "execution_count": 6,
      "outputs": []
    },
    {
      "cell_type": "code",
      "source": [
        "df['length_of_stay'] = len_stay\n",
        "df = df.drop(['c_jail_out', 'c_jail_in'], axis=1)"
      ],
      "metadata": {
        "id": "tbUbgQaVb_9m"
      },
      "execution_count": 7,
      "outputs": []
    },
    {
      "cell_type": "code",
      "source": [
        "#rearrange columns so y is the last column\n",
        "cols = df.columns.tolist()\n",
        "cols = cols[:-2] + cols[-1:] + cols[-2:-1]\n",
        "df = df[cols]"
      ],
      "metadata": {
        "id": "TS7AI4hNm8-L"
      },
      "execution_count": 8,
      "outputs": []
    },
    {
      "cell_type": "markdown",
      "source": [
        "Export new csv file into `../outputs`"
      ],
      "metadata": {
        "id": "51_EBwl8npMP"
      }
    },
    {
      "cell_type": "code",
      "source": [
        "df.to_csv(\"../output/csty_filtered.csv\", index=False)"
      ],
      "metadata": {
        "id": "3_F2yr5ZnoXJ"
      },
      "execution_count": 9,
      "outputs": []
    },
    {
      "cell_type": "markdown",
      "source": [
        "### (2) Data Subsetting for 'African-American' and 'Caucasian'\n",
        "Now we have the new csv file to work with, load the new csv data file ..."
      ],
      "metadata": {
        "id": "qF0ayAF2obAG"
      }
    },
    {
      "cell_type": "code",
      "source": [
        "# load new csv\n",
        "data = pd.read_csv('../output/csty_filtered.csv')"
      ],
      "metadata": {
        "id": "fQyR6SfbogER"
      },
      "execution_count": 10,
      "outputs": []
    },
    {
      "cell_type": "markdown",
      "metadata": {
        "id": "tF4Ww4zZD-ib"
      },
      "source": [
        "Check what kinds of race we have in the dataset -- we only want African American and Caucasian"
      ]
    },
    {
      "cell_type": "code",
      "metadata": {
        "colab": {
          "base_uri": "https://localhost:8080/"
        },
        "id": "1cpfXsku4kSR",
        "outputId": "cdb6cd85-5a95-4d88-c243-d6984a75e4ae"
      },
      "source": [
        "print(\"We have {} races in our dataset: {}\".format(data.race.unique().size, data.race.unique()))"
      ],
      "execution_count": 11,
      "outputs": [
        {
          "output_type": "stream",
          "name": "stdout",
          "text": [
            "We have 6 races in our dataset: ['Other' 'African-American' 'Caucasian' 'Hispanic' 'Asian'\n",
            " 'Native American']\n"
          ]
        }
      ]
    },
    {
      "cell_type": "markdown",
      "metadata": {
        "id": "f3lccjBTEGYB"
      },
      "source": [
        "Subset data with only race of interest"
      ]
    },
    {
      "cell_type": "code",
      "metadata": {
        "id": "6VFeZbdgCvC3"
      },
      "source": [
        "# subset data\n",
        "races = ['African-American', 'Caucasian']\n",
        "dat_tidy = data[data.race.isin(races)]"
      ],
      "execution_count": 12,
      "outputs": []
    },
    {
      "cell_type": "markdown",
      "metadata": {
        "id": "XsvH2d5IErsq"
      },
      "source": [
        "Check unique values of `Race` column, we can see now we only have 2 races for the purpose of this study"
      ]
    },
    {
      "cell_type": "code",
      "metadata": {
        "colab": {
          "base_uri": "https://localhost:8080/"
        },
        "id": "5LCHB6tvCQGV",
        "outputId": "343ab7bf-2772-4652-f8cf-90ce1539faff"
      },
      "source": [
        "print(\"We have {} races in our dataset: {}\" .format(dat_tidy.race.unique().size, dat_tidy.race.unique()))"
      ],
      "execution_count": 13,
      "outputs": [
        {
          "output_type": "stream",
          "name": "stdout",
          "text": [
            "We have 2 races in our dataset: ['African-American' 'Caucasian']\n"
          ]
        }
      ]
    },
    {
      "cell_type": "markdown",
      "metadata": {
        "id": "-J1NmR8kE8tp"
      },
      "source": [
        "### (3) Data Splitting\n",
        "\n",
        " a. Split data into Sensitive data, Nonsensitive data"
      ]
    },
    {
      "cell_type": "markdown",
      "source": [
        "Binary sensitive attribute:\n",
        "we want to only subset data with 2 races in interest: Caucasian(1) and African American(0)\n",
        "\n",
        "Binary Class (y):\n",
        "`two-year-recid` column"
      ],
      "metadata": {
        "id": "6U6xDg-BUTWf"
      }
    },
    {
      "cell_type": "code",
      "source": [
        "Y_column = ['two_year_recid']\n",
        "cat_columns = []\n",
        "num_columns = []\n",
        "\n",
        "for col in dat_tidy.columns.values:\n",
        "    if col in Y_column:\n",
        "        continue\n",
        "    elif dat_tidy[col].dtypes in ('int64', 'float64') :\n",
        "        num_columns += [col]\n",
        "    else:\n",
        "        cat_columns += [col]"
      ],
      "metadata": {
        "id": "kLAwLrdaHvpc"
      },
      "execution_count": 14,
      "outputs": []
    },
    {
      "cell_type": "markdown",
      "source": [
        "The following three chunks aim to transform categorical feature in numerical group (but still categorical) and scale the numerical features."
      ],
      "metadata": {
        "id": "rP8UqeCEIJwp"
      }
    },
    {
      "cell_type": "code",
      "source": [
        "categorical_features = cat_columns + ['two_year_recid']\n",
        "# categorical_features = categorical_features \n",
        "categorical_features_idx = [np.where(dat_tidy.columns.values == col)[0][0] for col in categorical_features]\n",
        "\n",
        "del cat_columns"
      ],
      "metadata": {
        "id": "jQmQ3QnCIJwp"
      },
      "execution_count": 15,
      "outputs": []
    },
    {
      "cell_type": "code",
      "source": [
        "data_encoded = dat_tidy.copy()\n",
        "\n",
        "categorical_names = {}\n",
        "encoders = {}\n",
        "\n",
        "# Use Label Encoder for categorical columns (including target column)\n",
        "for feature in categorical_features:\n",
        "    le = LabelEncoder()\n",
        "    le.fit(data_encoded[feature])\n",
        "    \n",
        "    data_encoded[feature] = le.transform(data_encoded[feature])\n",
        "    \n",
        "    categorical_names[feature] = le.classes_\n",
        "    encoders[feature] = le"
      ],
      "metadata": {
        "id": "W0z2lnT1IJwq"
      },
      "execution_count": 16,
      "outputs": []
    },
    {
      "cell_type": "code",
      "source": [
        "numerical_features = [c for c in dat_tidy.columns.values if c not in categorical_features]\n",
        "\n",
        "for feature in numerical_features:\n",
        "    val = data_encoded[feature].values[:, np.newaxis]\n",
        "    mms = MinMaxScaler().fit(val)\n",
        "    data_encoded[feature] = mms.transform(val)\n",
        "    encoders[feature] = mms\n",
        "    \n",
        "data_encoded = data_encoded.astype(float)\n",
        "\n",
        "del num_columns"
      ],
      "metadata": {
        "id": "zzHuHZ0sIJwq"
      },
      "execution_count": 17,
      "outputs": []
    },
    {
      "cell_type": "code",
      "metadata": {
        "id": "VVY9-CIUD4cj"
      },
      "source": [
        "x = data_encoded.iloc[:, :-1]\n",
        "y = data_encoded.iloc[:, -1]\n",
        "\n",
        "# sensitive attribute = race\n",
        "sensitive = data_encoded['race']"
      ],
      "execution_count": 18,
      "outputs": []
    },
    {
      "cell_type": "code",
      "metadata": {
        "id": "6L_Jtb0S30g-"
      },
      "source": [
        "# get indices for sensitivity\n",
        "# African American = 0, Caucasian = 1\n",
        "s_idx = np.array(np.where(sensitive == 0))[0].flatten()\n",
        "n_idx = np.array(np.where(sensitive == 1))[0].flatten()"
      ],
      "execution_count": 19,
      "outputs": []
    },
    {
      "cell_type": "code",
      "metadata": {
        "id": "YeKwmngA5NUb"
      },
      "source": [
        "X_s, X_n = x.iloc[s_idx, :], x.iloc[n_idx, :]\n",
        "y_s, y_n = y.iloc[s_idx], y.iloc[n_idx]"
      ],
      "execution_count": 20,
      "outputs": []
    },
    {
      "cell_type": "markdown",
      "metadata": {
        "id": "rBrW86Ro6GRq"
      },
      "source": [
        "b. training: validation:testing Split (6:2:2)\n",
        "\n",
        "- First do `train_test_split` for training and testing set (split = 0.2)\n",
        "- Resplit the training set into training and validation set (split = 0.3)"
      ]
    },
    {
      "cell_type": "code",
      "metadata": {
        "id": "EDMdFntk_BSz"
      },
      "source": [
        "# train-valid-test split Sensitive data\n",
        "\n",
        "X_train_s, X_test_s, y_train_s, y_test_s = train_test_split(X_s, y_s, test_size= 0.2, random_state=0)\n",
        "\n",
        "X_train_s, X_valid_s, y_train_s, y_valid_s = train_test_split(X_train_s, y_train_s, test_size = 0.3, random_state=0)\n"
      ],
      "execution_count": 50,
      "outputs": []
    },
    {
      "cell_type": "code",
      "metadata": {
        "id": "JroBPj5O5lF3"
      },
      "source": [
        "# train-valid-test split Nonsensitive data\n",
        "\n",
        "X_train_n, X_test_n, y_train_n, y_test_n = train_test_split(X_n, y_n, test_size= 0.2, random_state=0)\n",
        "\n",
        "X_train_n, X_valid_n, y_train_n, y_valid_n = train_test_split(X_train_n, y_train_n, test_size = 0.3, random_state=0)\n"
      ],
      "execution_count": 51,
      "outputs": []
    },
    {
      "cell_type": "markdown",
      "metadata": {
        "id": "pKEsuBa03naB"
      },
      "source": [
        "# A1: Learning Fair Representations"
      ]
    },
    {
      "cell_type": "markdown",
      "metadata": {
        "id": "lhgFlWA28RFe"
      },
      "source": [
        "### (1) Helper functions"
      ]
    },
    {
      "cell_type": "markdown",
      "metadata": {
        "id": "ZGAd391PbEDo"
      },
      "source": [
        "notations :\n",
        "\n",
        "X = input space (N x D) \\\\\n",
        "v = prototype space(intermediate representation) (K x D)\n",
        "\n",
        "parameters to optimize: $\\alpha, \\{v_k\\}_{k=1}^K, w$"
      ]
    },
    {
      "cell_type": "markdown",
      "metadata": {
        "id": "RoWzXlrJnjGY"
      },
      "source": [
        "In order to allow different input features to have different levels of impact, \n",
        "\n",
        "$d(x_n, v_k, \\alpha) = \\sum^D_{d=1} \\alpha_d (x_{nd} - v_{kd})^2$"
      ]
    },
    {
      "cell_type": "code",
      "metadata": {
        "id": "1xzzB2O3whqF",
        "cellView": "code"
      },
      "source": [
        "### distance measure --Eq(12) ###\n",
        "\n",
        "def dist(x, v, N, K, alpha, D):\n",
        "    d_output = np.zeros((N,K))\n",
        "    for n in range(N):\n",
        "      for k in range(K):\n",
        "        for d in range(D):\n",
        "          d_output[n,k] += (x[n, d] - v[k, d])*(x[n, d] - v[k, d])* alpha[d]          \n",
        "    return d_output\n",
        "\n",
        "#def dist1(x, v):\n",
        "#    d_output = distance.cdist(x, v)          \n",
        "#    return d_output\n"
      ],
      "execution_count": 23,
      "outputs": []
    },
    {
      "cell_type": "markdown",
      "metadata": {
        "id": "GVsiJ3iIdXMF"
      },
      "source": [
        "$M_{nk} = P(Z=k|x_n) \\space\\space \\forall n, k \\\\ \n",
        "= exp(-d(x_n, v_k))/\\sum_{k=1}^K exp(-d(x_n, v_k))$"
      ]
    },
    {
      "cell_type": "code",
      "metadata": {
        "id": "c0v2vT3owsXA"
      },
      "source": [
        "### probability that X_n maps to v_k  -- Eq(3) ###\n",
        "\n",
        "def M_nk(N, K, d_output):\n",
        "    M_nk_matrix = np.zeros((N,K))\n",
        "    exponent = np.zeros((N, K))\n",
        "    summation = np.zeros(N)\n",
        "  \n",
        "    for n in range(N):\n",
        "      # first loop through all K's for denominator summation for single n\n",
        "        for k in range(K):\n",
        "            exponent[n, k] = np.exp(-1 * d_output[n, k])\n",
        "            summation[n] += exponent[n,k]\n",
        "      # then loop through K again for the M_nk value\n",
        "        for k in range(K):\n",
        "          if summation[n] :\n",
        "              M_nk_matrix[n, k] = exponent[n, k]/summation[n]\n",
        "          else: \n",
        "              M_nk_matrix[n, k] = exponent[n, k]/1e-6  #chose to disregard this result, as would give a nAn error\n",
        "    return M_nk_matrix"
      ],
      "execution_count": 24,
      "outputs": []
    },
    {
      "cell_type": "markdown",
      "metadata": {
        "id": "D3_ossEjf2NF"
      },
      "source": [
        "$M_k = \\frac{1}{|X_0|} \\sum_{n \\in X_0} M_{nk}$\n",
        "\n",
        "$X_0$ is training set, including protected set and non protected set\n",
        "\n",
        "$X_0 = \\{X_0^+, X_0^-\\}$"
      ]
    },
    {
      "cell_type": "code",
      "metadata": {
        "id": "reye0NSEw2B5"
      },
      "source": [
        "### ensure statistical parity -- Eq(6) ### \n",
        "# p_set and np_set elemets map to same prototype with same probability\n",
        "\n",
        "def M_k(M_nk_matrix, N, K):\n",
        "    M_k_array = np.zeros(K)\n",
        "    \n",
        "    for k in range(K):\n",
        "        for n in range(N):\n",
        "            M_k_array[k] += M_nk_matrix[n, k]\n",
        "        M_k_array[k] /= abs(N)\n",
        "    return M_k_array"
      ],
      "execution_count": 25,
      "outputs": []
    },
    {
      "cell_type": "markdown",
      "metadata": {
        "id": "1VrR--Whgzgh"
      },
      "source": [
        "$\n",
        "\\hat{x}_n = \\sum^K_{k=1}M_{nk}v_k\n",
        "$"
      ]
    },
    {
      "cell_type": "code",
      "metadata": {
        "id": "OK5qedIh13O-"
      },
      "source": [
        "# x_hat_n are reconstructions fo x_n from Z -- Eq(9)\n",
        "\n",
        "def x_hat_n(M_nk_matrix, x, N, v, K, D): #unsure\n",
        "    x_hat = np.zeros((N, D))\n",
        "    for n in range(N):\n",
        "        for k in range(K):\n",
        "          for d in range(D):\n",
        "            x_hat[n, d] += M_nk_matrix[n, k] * v[k, d]\n",
        "    return x_hat"
      ],
      "execution_count": 26,
      "outputs": []
    },
    {
      "cell_type": "markdown",
      "metadata": {
        "id": "PBgNpfTPj5rk"
      },
      "source": [
        "$\n",
        "L_x = \\sum_{n=1}^N (x_n - \\hat{x}_n)^2\n",
        "$"
      ]
    },
    {
      "cell_type": "code",
      "metadata": {
        "id": "Prej0XHtiv3p"
      },
      "source": [
        "# Lx constrains mapping to Z to be a good description of X\n",
        "# quantify the amount of information lost in the new representation using SE\n",
        "# Eq(8)\n",
        "\n",
        "def L_x(x, N, D, x_hat):\n",
        "  Lx = 0\n",
        "  for n in range(N):\n",
        "    for d in range(D):\n",
        "      Lx += (x[n,d] - x_hat[n, d])**2\n",
        "  return Lx "
      ],
      "execution_count": 27,
      "outputs": []
    },
    {
      "cell_type": "markdown",
      "metadata": {
        "id": "1AyTOK_elnWY"
      },
      "source": [
        "$\n",
        "\\hat{y}_n = \\sum^K_{k=1} M_{nk}w_k \\\\\n",
        "0< w_k <1\n",
        "$"
      ]
    },
    {
      "cell_type": "code",
      "metadata": {
        "id": "vJD1OwpSiv0S"
      },
      "source": [
        "# y_hat_N is the prediction for y_n,\n",
        "# weighted by respective probabilities -- Eq(11)\n",
        "# w_k is value between 0 and 1 : prototype classification predictions are probabilities\n",
        "\n",
        "def y_hat_n(M_nk_matrix, N, K, w):\n",
        "    y_hat = np.zeros(N)\n",
        "    for n in range(N):\n",
        "      for k in range(K):\n",
        "        y_hat[n] += (M_nk_matrix[n, k]*w[k])\n",
        "      # acount for cases yhat is out of bound -> classification should be binary\n",
        "      y_hat[n] = 1e-6 if y_hat[n] <= 0 else y_hat[n]\n",
        "      y_hat[n] = 0.999 if y_hat[n] >= 1 else y_hat[n]\n",
        "    return y_hat"
      ],
      "execution_count": 28,
      "outputs": []
    },
    {
      "cell_type": "markdown",
      "metadata": {
        "id": "qLprnl_nly-d"
      },
      "source": [
        "$\n",
        "L_y = \\sum_{n=1}^N -y_n log \\hat{y}_n - (1-y_n)log(1- \\hat{y}_n)\n",
        "$"
      ]
    },
    {
      "cell_type": "code",
      "metadata": {
        "id": "b_Fbshk-k-RQ"
      },
      "source": [
        "# Ly requires that the rpediction of y is as accurate as possible \n",
        "# Eq(10)\n",
        "def L_y(y, y_hat, N):\n",
        "    Ly = 0\n",
        "    for n in range(N): \n",
        "        Ly += (-1*y[n]*np.log(y_hat[n]) - (1 - y[n])*(np.log(1-y_hat[n])))\n",
        "    return Ly"
      ],
      "execution_count": 29,
      "outputs": []
    },
    {
      "cell_type": "code",
      "metadata": {
        "id": "gRPFwkskqFqF"
      },
      "source": [
        "def L_z(M_k_s, M_k_n, K):\n",
        "  Lz= 0\n",
        "  for k in range(K):\n",
        "      Lz += abs(M_k_s[k] - M_k_n[k])\n",
        "  return Lz"
      ],
      "execution_count": 30,
      "outputs": []
    },
    {
      "cell_type": "markdown",
      "metadata": {
        "id": "OZ25BH2yqJ5b"
      },
      "source": [
        "### (2) Objective function\n",
        "\n",
        "minimize $L = A_z L_Z + A_x L_x + A_y L_y$ \n",
        "\n",
        "$A_x, A_z, A_y$ are hyperparameters governing trade-off between the system desiderata"
      ]
    },
    {
      "cell_type": "code",
      "metadata": {
        "id": "EeK-ls759Nbh"
      },
      "source": [
        "def minimize(params, x_s, y_s, x_n, y_n, K=10, A_x=0.01, A_y=1.0, A_z=50.0, results =0):\n",
        "    \n",
        "    '''\n",
        "    args:\n",
        "      x_s = sensitive data, protected set\n",
        "      y_s = class of sensitive data (binary)\n",
        "      x_n = nonsensitive data , nonprotected set\n",
        "      y_n = class of nonsensitive data (binary)\n",
        "      K = number of prototypes\n",
        "      A_x = input reconstruction quality term weight\n",
        "      A_y = output predicition error weight\n",
        "      A_z = fairness constraint term weight\n",
        "      results = if 0 no output\n",
        "      params\n",
        "    '''\n",
        "    # define parameters\n",
        "    minimize.iters += 1\n",
        "    x_s, x_n= np.array(x_s), np.array(x_n)\n",
        "    y_s, y_n = np.array(y_train_s), np.array(y_train_n)\n",
        "\n",
        "    N_s, D = x_s.shape\n",
        "    N_n, _ = x_n.shape\n",
        "\n",
        "    alpha_s = params[:D]\n",
        "    alpha_n = params[D:2*D]\n",
        "\n",
        "    w = params[2*D:(2*D)+K]\n",
        "    v = np.matrix(params[(2*D)+K:]).reshape((K, D))\n",
        "\n",
        "\n",
        "    #sensitive data, protected set, s=1\n",
        "    d_output_s = dist(x_s, v, N_s, K, alpha_s, D)\n",
        "    M_nk_s = M_nk(N_s, K, d_output_s)\n",
        "    M_k_s = M_k(M_nk_s, N_s, K)\n",
        "\n",
        "    #nonsensitive data, nonprotected set, s=0\n",
        "    d_output_n = dist(x_n, v, N_n, K, alpha_n, D)\n",
        "    M_nk_n = M_nk(N_n, K, d_output_n)\n",
        "    M_k_n = M_k(M_nk_n, N_n, K)\n",
        "\n",
        "    Lz = L_z(M_k_s, M_k_n, K)\n",
        "\n",
        "    x_hat_n_s = x_hat_n(M_nk_s, x_s, N_s, v, K, D)\n",
        "    x_hat_n_n = x_hat_n(M_nk_n, x_n, N_n, v, K, D)\n",
        "    L_x_s = L_x(x_s, N_s, D, x_hat_n_s)\n",
        "    L_x_n = L_x(x_n, N_n, D, x_hat_n_n)\n",
        "\n",
        "    Lx = L_x_s + L_x_n\n",
        "\n",
        "    y_hat_n_s = y_hat_n(M_nk_s, N_s, K, w)\n",
        "    y_hat_n_n = y_hat_n(M_nk_n, N_n, K, w)\n",
        "    L_y_s = L_y(y_s, y_hat_n_s, N_s)\n",
        "    L_y_n = L_y(y_n, y_hat_n_n, N_n)\n",
        "    \n",
        "    Ly = L_y_s + L_y_n\n",
        "    \n",
        "    minimized = (A_x * Lx) + (A_y * Ly) + (A_z * Lz)\n",
        "    \n",
        "    if minimize.iters % 250 ==0:\n",
        "      print(\"step: {}, loss: {}, L_x: {},  L_y: {},  L_z: {}\".format(\n",
        "            minimize.iters, minimized, Lx,  Ly,  Lz))\n",
        "    \n",
        "    if results:\n",
        "        return y_hat_n_s, y_hat_n_n, M_nk_s, M_nk_n, minimized\n",
        "    else:\n",
        "        return minimized\n",
        "\n",
        "\n",
        "minimize.iters = 0"
      ],
      "execution_count": 31,
      "outputs": []
    },
    {
      "cell_type": "markdown",
      "metadata": {
        "id": "D0S-mJxI8Zwb"
      },
      "source": [
        "### Initialize Params for w, v"
      ]
    },
    {
      "cell_type": "code",
      "source": [
        "K= 10\n",
        "params = np.random.uniform(size=x.shape[1] * 2 + K + x.shape[1] * K)\n",
        "minimize.iters = 0"
      ],
      "metadata": {
        "id": "UvxEj3JSyxF0"
      },
      "execution_count": 32,
      "outputs": []
    },
    {
      "cell_type": "code",
      "source": [
        "y_hat_n_s, y_hat_n_n, M_nk_s, M_nk_n, minimized= minimize(params, X_train_s, y_train_s,\n",
        "                                                X_train_n, y_train_n,K=10, A_x=1e-4, A_y=0.1, A_z= 0.5,\n",
        "                                                results = 1)\n"
      ],
      "metadata": {
        "id": "UZYd5xUcsoj3"
      },
      "execution_count": 33,
      "outputs": []
    },
    {
      "cell_type": "code",
      "source": [
        "minimized"
      ],
      "metadata": {
        "colab": {
          "base_uri": "https://localhost:8080/"
        },
        "id": "d6DIkj1xno3a",
        "outputId": "9fc20f5a-3bd4-443b-9e3b-129c58f665d2"
      },
      "execution_count": 34,
      "outputs": [
        {
          "output_type": "execute_result",
          "data": {
            "text/plain": [
              "225.32570498588439"
            ]
          },
          "metadata": {},
          "execution_count": 34
        }
      ]
    },
    {
      "cell_type": "markdown",
      "source": [
        "Use L_BFGS to minimize objective function as given on the paper"
      ],
      "metadata": {
        "id": "kYt8_4HKfAyS"
      }
    },
    {
      "cell_type": "code",
      "metadata": {
        "id": "8oZkxaFX3JJX",
        "colab": {
          "base_uri": "https://localhost:8080/"
        },
        "outputId": "f3444650-8ff4-4f34-8644-7f64923848f8"
      },
      "source": [
        "bnd=[]\n",
        "# assign bounds to w\n",
        "for i, k2 in enumerate(params):\n",
        "    if i < x.shape[1] * 2 or i >= x.shape[1] * 2 + K:\n",
        "        bnd.append((None, None))\n",
        "    else:\n",
        "        bnd.append((0, 1))\n",
        "\n",
        "# optimize...\n",
        "start = time()\n",
        "params = optim.fmin_l_bfgs_b(minimize, x0=params, epsilon=1e-5, \n",
        "                          args=(X_train_s, y_train_s, \n",
        "                                X_train_n, y_train_n, 10, 1e-4, 0.1, 0.5, 0),\n",
        "                          bounds = bnd, approx_grad=True, maxfun=1500, maxiter=1500)\n",
        "end= time()"
      ],
      "execution_count": 35,
      "outputs": [
        {
          "output_type": "stream",
          "name": "stdout",
          "text": [
            "step: 250, loss: 207.45520778037064, L_x: 8554.251730156682,  L_y: 2065.3129188621065,  L_z: 0.13698144228861392\n",
            "step: 500, loss: 191.5154749908951, L_x: 8338.959043074337,  L_y: 1905.979593925475,  L_z: 0.16723938808022387\n",
            "step: 750, loss: 176.69388901867978, L_x: 8143.221585157824,  L_y: 1757.8366735497943,  L_z: 0.19179901036906744\n",
            "step: 1000, loss: 148.22965246331268, L_x: 7803.119422909982,  L_y: 1473.340921402961,  L_z: 0.23049676145116438\n",
            "step: 1250, loss: 109.98717290260588, L_x: 7620.139872421356,  L_y: 1090.9664410359665,  L_z: 0.2570296235341811\n",
            "step: 1500, loss: 53.222796079363796, L_x: 7417.040824448657,  L_y: 523.334716841376,  L_z: 0.29524062556263714\n"
          ]
        }
      ]
    },
    {
      "cell_type": "code",
      "source": [
        "print(\"training time: {}s\".format(end-start))"
      ],
      "metadata": {
        "colab": {
          "base_uri": "https://localhost:8080/"
        },
        "id": "Er0ihZ4dZ-Zq",
        "outputId": "02ec5b80-2742-4ad6-eeb2-220cb843405a"
      },
      "execution_count": 36,
      "outputs": [
        {
          "output_type": "stream",
          "name": "stdout",
          "text": [
            "training time: 2741.6280629634857s\n"
          ]
        }
      ]
    },
    {
      "cell_type": "code",
      "source": [
        "w = params[0][x.shape[1]*2:x.shape[1]*2+K]\n",
        "v = params[0][x.shape[1]*2+K:].reshape(K,x.shape[1])"
      ],
      "metadata": {
        "id": "FQwuAqWY2wCe"
      },
      "execution_count": 37,
      "outputs": []
    },
    {
      "cell_type": "code",
      "source": [
        ""
      ],
      "metadata": {
        "id": "r5_NdQ3vHw5M"
      },
      "execution_count": null,
      "outputs": []
    },
    {
      "cell_type": "markdown",
      "metadata": {
        "id": "g4jLEqzH-cad"
      },
      "source": [
        "### Prediction A1\n",
        "metrics = [accuracy, calibration]"
      ]
    },
    {
      "cell_type": "code",
      "source": [
        "test_yhat_s, test_yhat_n, test_M_nk_s, test_M_nk_n, minimized = minimize(params[0], X_test_s, y_test_s,\n",
        "                                                              X_test_n, y_test_n,\n",
        "                                                              K, 1e-4, 0.1, 0.5,\n",
        "                                                              results = 1)\n",
        "\n"
      ],
      "metadata": {
        "id": "ML7RcbMXt871"
      },
      "execution_count": 44,
      "outputs": []
    },
    {
      "cell_type": "code",
      "source": [
        "ytest_s_pred = test_M_nk_s.dot(np.expand_dims(w,axis=1))\n",
        "# print ytest_sensitive_pred.shape\n",
        "\n",
        "# evaluate_performance_sim(ytest_sensitive, ytest_sensitive_pred)\n",
        "\n",
        "ytest_n_pred = test_M_nk_n.dot(np.expand_dims(w,axis=1))\n",
        "# print ytest_nonsensitive_pred.shape\n",
        "\n",
        "# evaluate_performance_sim(ytest_nonsensitive, ytest_nonsensitive_pred)\n",
        "y_test_s = list(y_test_s)\n",
        "\n",
        "y_test_n = list(y_test_n)\n",
        "\n",
        "target = np.array(y_test_s + y_test_n)\n",
        "# len(target)\n",
        "\n",
        "ytest_s_pred = ytest_s_pred.flatten()\n",
        "ytest_s_pred = list(ytest_s_pred)\n",
        "\n",
        "ytest_n_pred = ytest_n_pred.flatten()\n",
        "ytest_n_pred = list(ytest_n_pred)\n",
        "\n",
        "pred = np.array(ytest_s_pred + ytest_n_pred)"
      ],
      "metadata": {
        "id": "7INkFdhxsjiu"
      },
      "execution_count": 66,
      "outputs": []
    },
    {
      "cell_type": "code",
      "source": [
        "display(Markdown(\"#### Predictions from transformed testing data\"))\n",
        "\n",
        "class_thresh_arr = np.linspace(0.01, 0.99, 100)\n",
        "\n",
        "for thresh in class_thresh_arr:\n",
        "    \n",
        "    fav_inds = pred > thresh\n",
        "    pred[fav_inds] = 1.0\n",
        "    pred[~fav_inds] = 0.0\n"
      ],
      "metadata": {
        "colab": {
          "base_uri": "https://localhost:8080/",
          "height": 57
        },
        "id": "EI5bwlQDJm3v",
        "outputId": "d819a5f8-fbfe-45f0-a654-5c6119f0176b"
      },
      "execution_count": 68,
      "outputs": [
        {
          "output_type": "display_data",
          "data": {
            "text/markdown": "#### Predictions from transformed testing data",
            "text/plain": [
              "<IPython.core.display.Markdown object>"
            ]
          },
          "metadata": {}
        }
      ]
    },
    {
      "cell_type": "code",
      "source": [
        "accuracy_score(target, pred)"
      ],
      "metadata": {
        "colab": {
          "base_uri": "https://localhost:8080/"
        },
        "id": "OTvqP25EI85L",
        "outputId": "ac000499-9710-4ddc-a11f-12aedfe8e51f"
      },
      "execution_count": 69,
      "outputs": [
        {
          "output_type": "execute_result",
          "data": {
            "text/plain": [
              "0.4640151515151515"
            ]
          },
          "metadata": {},
          "execution_count": 69
        }
      ]
    },
    {
      "cell_type": "code",
      "metadata": {
        "id": "7eFnf7pv-eze",
        "colab": {
          "base_uri": "https://localhost:8080/"
        },
        "outputId": "84d912f5-d72a-4255-dcf9-9a05758dd71f"
      },
      "source": [
        "calibration.calibration_curve(target, pred)"
      ],
      "execution_count": 72,
      "outputs": [
        {
          "output_type": "execute_result",
          "data": {
            "text/plain": [
              "(array([0.46401515]), array([1.]))"
            ]
          },
          "metadata": {},
          "execution_count": 72
        }
      ]
    },
    {
      "cell_type": "code",
      "source": [
        "ytest_s_pred = np.array(ytest_s_pred)\n",
        "ytest_n_pred = np.array(ytest_n_pred)\n",
        "\n",
        "for thresh in class_thresh_arr:\n",
        "    fav_inds = ytest_n_pred > thresh\n",
        "    ytest_n_pred[fav_inds] = 1.0\n",
        "    ytest_n_pred[~fav_inds] = 0.0\n",
        "\n",
        "for thresh in class_thresh_arr:\n",
        "    fav_inds = ytest_s_pred > thresh\n",
        "    ytest_s_pred[fav_inds] = 1.0\n",
        "    ytest_s_pred[~fav_inds] = 0.0\n"
      ],
      "metadata": {
        "id": "7ZUPupG6NKmq"
      },
      "execution_count": 74,
      "outputs": []
    },
    {
      "cell_type": "code",
      "source": [
        "display(Markdown('#### Calibration of the model :'))\n",
        "print(accuracy_score(y_test_s, ytest_s_pred)- accuracy_score(y_test_n, ytest_n_pred))"
      ],
      "metadata": {
        "colab": {
          "base_uri": "https://localhost:8080/",
          "height": 74
        },
        "id": "5efCrxKcy4Jj",
        "outputId": "a56e247e-d5bf-4a3b-9818-c44d1e4d25b9"
      },
      "execution_count": 75,
      "outputs": [
        {
          "output_type": "display_data",
          "data": {
            "text/markdown": "#### Calibration of the model :",
            "text/plain": [
              "<IPython.core.display.Markdown object>"
            ]
          },
          "metadata": {}
        },
        {
          "output_type": "stream",
          "name": "stdout",
          "text": [
            "0.1672882338638787\n"
          ]
        }
      ]
    },
    {
      "cell_type": "markdown",
      "metadata": {
        "id": "RWx710Q24R0-"
      },
      "source": [
        "# A5"
      ]
    },
    {
      "cell_type": "markdown",
      "metadata": {
        "id": "d9aab83d"
      },
      "source": [
        "# 3. AIF360 Introduction\n",
        "## 3.1. Create dataset using aif360"
      ]
    },
    {
      "cell_type": "code",
      "execution_count": null,
      "metadata": {
        "id": "94bf3c87"
      },
      "outputs": [],
      "source": [
        "aif_data = BinaryLabelDataset(df=data_encoded,\n",
        "                              label_names=['two_year_recid'],\n",
        "                              protected_attribute_names=['race'],\n",
        "                              favorable_label=1.0,\n",
        "                              unfavorable_label=0.0)"
      ]
    },
    {
      "cell_type": "code",
      "execution_count": null,
      "metadata": {
        "id": "17a72f29"
      },
      "outputs": [],
      "source": [
        "def meta_data(dataset):\n",
        "    # print out some labels, names, etc.\n",
        "    display(Markdown(\"#### Dataset shape\"))\n",
        "    print(dataset.features.shape)\n",
        "    display(Markdown(\"#### Favorable and unfavorable labels\"))\n",
        "    print(dataset.favorable_label, dataset.unfavorable_label)\n",
        "    display(Markdown(\"#### Protected attribute names\"))\n",
        "    print(dataset.protected_attribute_names)\n",
        "    display(Markdown(\"#### Privileged and unprivileged protected attribute values\"))\n",
        "    print(dataset.privileged_protected_attributes, dataset.unprivileged_protected_attributes)\n",
        "    display(Markdown(\"#### Dataset feature names\"))\n",
        "    print(dataset.feature_names)"
      ]
    },
    {
      "cell_type": "code",
      "execution_count": null,
      "metadata": {
        "id": "86e4adbf",
        "outputId": "4fea78c7-4c74-4a76-c7ca-831746a4183f"
      },
      "outputs": [
        {
          "data": {
            "text/markdown": [
              "#### Dataset shape"
            ],
            "text/plain": [
              "<IPython.core.display.Markdown object>"
            ]
          },
          "metadata": {},
          "output_type": "display_data"
        },
        {
          "name": "stdout",
          "output_type": "stream",
          "text": [
            "(5278, 11)\n"
          ]
        },
        {
          "data": {
            "text/markdown": [
              "#### Favorable and unfavorable labels"
            ],
            "text/plain": [
              "<IPython.core.display.Markdown object>"
            ]
          },
          "metadata": {},
          "output_type": "display_data"
        },
        {
          "name": "stdout",
          "output_type": "stream",
          "text": [
            "1.0 0.0\n"
          ]
        },
        {
          "data": {
            "text/markdown": [
              "#### Protected attribute names"
            ],
            "text/plain": [
              "<IPython.core.display.Markdown object>"
            ]
          },
          "metadata": {},
          "output_type": "display_data"
        },
        {
          "name": "stdout",
          "output_type": "stream",
          "text": [
            "['race']\n"
          ]
        },
        {
          "data": {
            "text/markdown": [
              "#### Privileged and unprivileged protected attribute values"
            ],
            "text/plain": [
              "<IPython.core.display.Markdown object>"
            ]
          },
          "metadata": {},
          "output_type": "display_data"
        },
        {
          "name": "stdout",
          "output_type": "stream",
          "text": [
            "[array([1.])] [array([0.])]\n"
          ]
        },
        {
          "data": {
            "text/markdown": [
              "#### Dataset feature names"
            ],
            "text/plain": [
              "<IPython.core.display.Markdown object>"
            ]
          },
          "metadata": {},
          "output_type": "display_data"
        },
        {
          "name": "stdout",
          "output_type": "stream",
          "text": [
            "['age', 'c_charge_degree', 'race', 'age_cat', 'score_text', 'sex', 'priors_count', 'days_b_screening_arrest', 'decile_score', 'is_recid', 'length_of_stay']\n"
          ]
        }
      ],
      "source": [
        "meta_data(aif_data)"
      ]
    },
    {
      "cell_type": "markdown",
      "metadata": {
        "id": "7c70f770"
      },
      "source": [
        "## 3.2. Random Forest Model\n",
        "We construct a random forest model as our baseline. Usually, random forest model does not require a validation set, so we just create train and test set in a ratio of 4:1."
      ]
    },
    {
      "cell_type": "code",
      "execution_count": null,
      "metadata": {
        "id": "69bb09d3",
        "outputId": "ea212d6c-8669-4d7f-8d89-f2f18acdeab7"
      },
      "outputs": [
        {
          "data": {
            "text/markdown": [
              "#### Train Dataset shape"
            ],
            "text/plain": [
              "<IPython.core.display.Markdown object>"
            ]
          },
          "metadata": {},
          "output_type": "display_data"
        },
        {
          "name": "stdout",
          "output_type": "stream",
          "text": [
            "Race: (4222, 11)\n"
          ]
        },
        {
          "data": {
            "text/markdown": [
              "#### Test Dataset shape"
            ],
            "text/plain": [
              "<IPython.core.display.Markdown object>"
            ]
          },
          "metadata": {},
          "output_type": "display_data"
        },
        {
          "name": "stdout",
          "output_type": "stream",
          "text": [
            "Race: (1056, 11)\n"
          ]
        }
      ],
      "source": [
        "np.random.seed(20211208)\n",
        "\n",
        "aif_data_train, aif_data_test = aif_data.split([0.8], shuffle=True)\n",
        "\n",
        "display(Markdown(\"#### Train Dataset shape\"))\n",
        "print(\"Race:\",aif_data_train.features.shape)\n",
        "display(Markdown(\"#### Test Dataset shape\"))\n",
        "print(\"Race:\",aif_data_test.features.shape)"
      ]
    },
    {
      "cell_type": "code",
      "execution_count": null,
      "metadata": {
        "id": "ee96bba4"
      },
      "outputs": [],
      "source": [
        "# Train and save the models\n",
        "rf_aif = RandomForestClassifier().fit(aif_data_train.features,\n",
        "                                      aif_data_train.labels.ravel(),\n",
        "                                      sample_weight=aif_data_train.instance_weights)"
      ]
    },
    {
      "cell_type": "code",
      "execution_count": null,
      "metadata": {
        "id": "1ff3fe6d"
      },
      "outputs": [],
      "source": [
        "X_test = aif_data_test.features\n",
        "y_test = aif_data_test.labels.ravel()"
      ]
    },
    {
      "cell_type": "code",
      "execution_count": null,
      "metadata": {
        "id": "dca2274f"
      },
      "outputs": [],
      "source": [
        "# This code is based on https://www.kaggle.com/nathanlauga/ethics-and-ai-how-to-prevent-bias-on-ml?scriptVersionId=20652099&cellId=83\n",
        "def get_model_performance(X_test, y_true, y_pred, probs):\n",
        "    accuracy = accuracy_score(y_true, y_pred)\n",
        "    matrix = confusion_matrix(y_true, y_pred)\n",
        "    f1 = f1_score(y_true, y_pred)\n",
        "    preds = probs[:, 1]\n",
        "    fpr, tpr, threshold = roc_curve(y_true, preds)\n",
        "    roc_auc = auc(fpr, tpr)\n",
        "\n",
        "    return accuracy, matrix, f1, fpr, tpr, roc_auc\n",
        "\n",
        "def plot_model_performance(model, X_test, y_true):\n",
        "    y_pred = model.predict(X_test)\n",
        "    probs = model.predict_proba(X_test)\n",
        "    accuracy, matrix, f1, fpr, tpr, roc_auc = get_model_performance(X_test, y_true, y_pred, probs)\n",
        "\n",
        "    display(Markdown('#### Accuracy of the model :'))\n",
        "    print(accuracy)\n",
        "    display(Markdown('#### F1 score of the model :'))\n",
        "    print(f1)\n",
        "\n",
        "    fig = plt.figure(figsize=(15, 6))\n",
        "    ax = fig.add_subplot(1, 2, 1)\n",
        "    sns.heatmap(matrix, annot=True, cmap='Blues', fmt='g')\n",
        "    plt.title('Confusion Matrix')\n",
        "\n",
        "    ax = fig.add_subplot(1, 2, 2)\n",
        "    lw = 2\n",
        "    plt.plot(fpr, tpr, color='darkorange', lw=lw, label='ROC curve (area = %0.2f)' % roc_auc)\n",
        "    plt.plot([0, 1], [0, 1], color='navy', lw=lw, linestyle='--')\n",
        "    plt.xlim([0.0, 1.0])\n",
        "    plt.ylim([0.0, 1.05])\n",
        "    plt.xlabel('False Positive Rate')\n",
        "    plt.ylabel('True Positive Rate')\n",
        "    plt.title('Receiver Operating Characteristic curve')\n",
        "    plt.legend(loc=\"lower right\")"
      ]
    },
    {
      "cell_type": "code",
      "execution_count": null,
      "metadata": {
        "id": "db4e02aa",
        "outputId": "c0318697-c861-4efd-efc2-9f37ace2aa7b"
      },
      "outputs": [
        {
          "data": {
            "text/markdown": [
              "#### Accuracy of the model :"
            ],
            "text/plain": [
              "<IPython.core.display.Markdown object>"
            ]
          },
          "metadata": {},
          "output_type": "display_data"
        },
        {
          "name": "stdout",
          "output_type": "stream",
          "text": [
            "0.9696969696969697\n"
          ]
        },
        {
          "data": {
            "text/markdown": [
              "#### F1 score of the model :"
            ],
            "text/plain": [
              "<IPython.core.display.Markdown object>"
            ]
          },
          "metadata": {},
          "output_type": "display_data"
        },
        {
          "name": "stdout",
          "output_type": "stream",
          "text": [
            "0.9693486590038314\n"
          ]
        },
        {
          "data": {
            "image/png": "[encoded data removed]",
            "text/plain": [
              "<Figure size 1080x432 with 3 Axes>"
            ]
          },
          "metadata": {},
          "output_type": "display_data"
        }
      ],
      "source": [
        "plot_model_performance(rf_aif, aif_data_test.features, y_test)"
      ]
    },
    {
      "cell_type": "code",
      "execution_count": null,
      "metadata": {
        "id": "e84ef556"
      },
      "outputs": [],
      "source": [
        "np.random.seed(20211208)\n",
        "\n",
        "aif_data_tr, aif_data_te = aif_data.split([0.8], shuffle=True)\n",
        "\n",
        "aif_tr = aif_data_tr.convert_to_dataframe()[0]\n",
        "aif_te = aif_data_te.convert_to_dataframe()[0]\n",
        "\n",
        "rf_aift = RandomForestClassifier().fit(aif_tr[['age', 'c_charge_degree', 'race', 'age_cat', 'score_text', 'sex', \n",
        "                                               'priors_count', 'days_b_screening_arrest', 'decile_score', 'is_recid', \n",
        "                                               'length_of_stay']],\n",
        "                                       aif_tr['two_year_recid'],\n",
        "                                       sample_weight=aif_data_train.instance_weights)\n",
        "\n",
        "X_test = aif_te[['age', 'c_charge_degree', 'race', 'age_cat', 'score_text', 'sex', 'priors_count', 'days_b_screening_arrest',\n",
        "                 'decile_score', 'is_recid', 'length_of_stay']]\n",
        "y_test = aif_te['two_year_recid']"
      ]
    },
    {
      "cell_type": "code",
      "execution_count": null,
      "metadata": {
        "id": "5d803681",
        "outputId": "c20e0da4-acb4-4183-fa89-a202c9c0e83d"
      },
      "outputs": [
        {
          "data": {
            "text/markdown": [
              "#### Calibration of the model :"
            ],
            "text/plain": [
              "<IPython.core.display.Markdown object>"
            ]
          },
          "metadata": {},
          "output_type": "display_data"
        },
        {
          "name": "stdout",
          "output_type": "stream",
          "text": [
            "-0.0251237412527735\n"
          ]
        }
      ],
      "source": [
        "y_pred_AA = rf_aift.predict(X_test[X_test['race']==0])\n",
        "y_pred_Ca = rf_aift.predict(X_test[X_test['race']==1])\n",
        "y_test_AA = aif_te[aif_te['race']==0]['two_year_recid']\n",
        "y_test_Ca = aif_te[aif_te['race']==1]['two_year_recid']\n",
        "\n",
        "display(Markdown('#### Calibration of the model :'))\n",
        "print(metrics.accuracy_score(y_test_AA, y_pred_AA)-metrics.accuracy_score(y_test_Ca, y_pred_Ca))"
      ]
    },
    {
      "cell_type": "markdown",
      "metadata": {
        "id": "ca892780"
      },
      "source": [
        "The baseline model has some really good metrics.\n",
        "# 4. Bias and fairness\n",
        "## 4.1 Metrics\n",
        "AIF360 provides some metrics for us to check model fairness. I will use 5 metrics:\n",
        "* Statistical Parity Difference\n",
        "* Equal Opportunity Difference\n",
        "* Average Absolute Odds Difference\n",
        "* Disparate Impact\n",
        "* Theil Index"
      ]
    },
    {
      "cell_type": "code",
      "execution_count": null,
      "metadata": {
        "id": "a8b31253"
      },
      "outputs": [],
      "source": [
        "# This DataFrame is created to stock differents models and fair metrics that we produce in this notebook\n",
        "algo_metrics = pd.DataFrame(columns=['model', 'fair_metrics', 'prediction', 'probs'])\n",
        "\n",
        "def add_to_df_algo_metrics(algo_metrics, model, fair_metrics, preds, probs, name):\n",
        "    return algo_metrics.append(pd.DataFrame(data=[[model, fair_metrics, preds, probs]], columns=['model', 'fair_metrics', 'prediction', 'probs'], index=[name]))"
      ]
    },
    {
      "cell_type": "code",
      "execution_count": null,
      "metadata": {
        "id": "513b8406"
      },
      "outputs": [],
      "source": [
        "# This code is based on https://www.kaggle.com/nathanlauga/ethics-and-ai-how-to-prevent-bias-on-ml?scriptVersionId=20652099&cellId=87\n",
        "def fair_metrics(dataset, pred, pred_is_dataset=False):\n",
        "    if pred_is_dataset:\n",
        "        dataset_pred = pred\n",
        "    else:\n",
        "        dataset_pred = dataset.copy()\n",
        "        dataset_pred.labels = pred\n",
        "    \n",
        "    cols = ['statistical_parity_difference', 'equal_opportunity_difference', 'average_abs_odds_difference',  'disparate_impact', 'theil_index']\n",
        "    obj_fairness = [[0,0,0,1,0]]\n",
        "    \n",
        "    fair_metrics = pd.DataFrame(data=obj_fairness, index=['objective'], columns=cols)\n",
        "    \n",
        "    for attr in dataset_pred.protected_attribute_names:\n",
        "        idx = dataset_pred.protected_attribute_names.index(attr)\n",
        "        privileged_groups =  [{attr:dataset_pred.privileged_protected_attributes[idx][0]}] \n",
        "        unprivileged_groups = [{attr:dataset_pred.unprivileged_protected_attributes[idx][0]}] \n",
        "        \n",
        "        classified_metric = ClassificationMetric(dataset, \n",
        "                                                     dataset_pred,\n",
        "                                                     unprivileged_groups=unprivileged_groups,\n",
        "                                                     privileged_groups=privileged_groups)\n",
        "        \n",
        "        metric_pred = BinaryLabelDatasetMetric(dataset_pred,\n",
        "                                                     unprivileged_groups=unprivileged_groups,\n",
        "                                                     privileged_groups=privileged_groups)\n",
        "\n",
        "        acc = classified_metric.accuracy()\n",
        "        \n",
        "        row = pd.DataFrame([[metric_pred.mean_difference(),\n",
        "                                classified_metric.equal_opportunity_difference(),\n",
        "                                classified_metric.average_abs_odds_difference(),\n",
        "                                metric_pred.disparate_impact(),\n",
        "                                classified_metric.theil_index()]],\n",
        "                           columns  = cols,\n",
        "                           index = [attr]\n",
        "                          )\n",
        "        fair_metrics = fair_metrics.append(row)    \n",
        "    \n",
        "    fair_metrics = fair_metrics.replace([-np.inf, np.inf], 2)\n",
        "        \n",
        "    return fair_metrics\n",
        "\n",
        "def plot_fair_metrics(fair_metrics):\n",
        "    fig, ax = plt.subplots(figsize=(20,4), ncols=5, nrows=1)\n",
        "\n",
        "    plt.subplots_adjust(\n",
        "        left    =  0.125, \n",
        "        bottom  =  0.1, \n",
        "        right   =  0.9, \n",
        "        top     =  0.9, \n",
        "        wspace  =  .5, \n",
        "        hspace  =  1.1\n",
        "    )\n",
        "\n",
        "    y_title_margin = 1.2\n",
        "\n",
        "    plt.suptitle(\"Fairness metrics\", y = 1.09, fontsize=20)\n",
        "    sns.set(style=\"dark\")\n",
        "\n",
        "    cols = fair_metrics.columns.values\n",
        "    obj = fair_metrics.loc['objective']\n",
        "    size_rect = [0.2,0.2,0.2,0.4,0.25]\n",
        "    rect = [-0.1,-0.1,-0.1,0.8,0]\n",
        "    bottom = [-1,-1,-1,0,0]\n",
        "    top = [1,1,1,2,1]\n",
        "    bound = [[-0.1,0.1],[-0.1,0.1],[-0.1,0.1],[0.8,1.2],[0,0.25]]\n",
        "\n",
        "    display(Markdown(\"### Check bias metrics :\"))\n",
        "    display(Markdown(\"A model can be considered bias if just one of these five metrics show that this model is biased.\"))\n",
        "    for attr in fair_metrics.index[1:len(fair_metrics)].values:\n",
        "        display(Markdown(\"#### For the %s attribute :\"%attr))\n",
        "        check = [bound[i][0] < fair_metrics.loc[attr][i] < bound[i][1] for i in range(0,5)]\n",
        "        display(Markdown(\"With default thresholds, bias against unprivileged group detected in **%d** out of 5 metrics\"%(5 - sum(check))))\n",
        "\n",
        "    for i in range(0,5):\n",
        "        plt.subplot(1, 5, i+1)\n",
        "        ax = sns.barplot(x=fair_metrics.index[1:len(fair_metrics)], y=fair_metrics.iloc[1:len(fair_metrics)][cols[i]])\n",
        "        \n",
        "        for j in range(0,len(fair_metrics)-1):\n",
        "            a, val = ax.patches[j], fair_metrics.iloc[j+1][cols[i]]\n",
        "            marg = -0.2 if val < 0 else 0.1\n",
        "            ax.text(a.get_x()+a.get_width()/5, a.get_y()+a.get_height()+marg, round(val, 3), fontsize=15,color='black')\n",
        "\n",
        "        plt.ylim(bottom[i], top[i])\n",
        "        plt.setp(ax.patches, linewidth=0)\n",
        "        ax.add_patch(patches.Rectangle((-5,rect[i]), 10, size_rect[i], alpha=0.3, facecolor=\"green\", linewidth=1, linestyle='solid'))\n",
        "        plt.axhline(obj[i], color='black', alpha=0.3)\n",
        "        plt.title(cols[i])\n",
        "        ax.set_ylabel('')    \n",
        "        ax.set_xlabel('')"
      ]
    },
    {
      "cell_type": "code",
      "execution_count": null,
      "metadata": {
        "id": "071b8012"
      },
      "outputs": [],
      "source": [
        "# This code is based on https://www.kaggle.com/nathanlauga/ethics-and-ai-how-to-prevent-bias-on-ml?scriptVersionId=20652099&cellId=88\n",
        "def get_fair_metrics_and_plot(data, model, plot=True, model_aif=False):\n",
        "    pred = model.predict(data).labels if model_aif else model.predict(data.features)\n",
        "    # fair_metrics function available in the metrics.py file\n",
        "    fair = fair_metrics(data, pred)\n",
        "    \n",
        "    if plot:\n",
        "        # plot_fair_metrics function available in the visualisations.py file\n",
        "        # The visualisation of this function is inspired by the dashboard on the demo of IBM aif360 \n",
        "        plot_fair_metrics(fair)\n",
        "        display(fair)\n",
        "    \n",
        "    return fair"
      ]
    },
    {
      "cell_type": "code",
      "execution_count": null,
      "metadata": {
        "id": "75dd0cf6",
        "outputId": "1cd914e5-4f1f-45a8-87c4-4d94f1633da3"
      },
      "outputs": [
        {
          "data": {
            "text/markdown": [
              "### Bias metrics for the Race model"
            ],
            "text/plain": [
              "<IPython.core.display.Markdown object>"
            ]
          },
          "metadata": {},
          "output_type": "display_data"
        },
        {
          "data": {
            "text/markdown": [
              "### Check bias metrics :"
            ],
            "text/plain": [
              "<IPython.core.display.Markdown object>"
            ]
          },
          "metadata": {},
          "output_type": "display_data"
        },
        {
          "data": {
            "text/markdown": [
              "A model can be considered bias if just one of these five metrics show that this model is biased."
            ],
            "text/plain": [
              "<IPython.core.display.Markdown object>"
            ]
          },
          "metadata": {},
          "output_type": "display_data"
        },
        {
          "data": {
            "text/markdown": [
              "#### For the race attribute :"
            ],
            "text/plain": [
              "<IPython.core.display.Markdown object>"
            ]
          },
          "metadata": {},
          "output_type": "display_data"
        },
        {
          "data": {
            "text/markdown": [
              "With default thresholds, bias against unprivileged group detected in **2** out of 5 metrics"
            ],
            "text/plain": [
              "<IPython.core.display.Markdown object>"
            ]
          },
          "metadata": {},
          "output_type": "display_data"
        },
        {
          "data": {
            "text/html": [
              "<div>\n",
              "<style scoped>\n",
              "    .dataframe tbody tr th:only-of-type {\n",
              "        vertical-align: middle;\n",
              "    }\n",
              "\n",
              "    .dataframe tbody tr th {\n",
              "        vertical-align: top;\n",
              "    }\n",
              "\n",
              "    .dataframe thead th {\n",
              "        text-align: right;\n",
              "    }\n",
              "</style>\n",
              "<table border=\"1\" class=\"dataframe\">\n",
              "  <thead>\n",
              "    <tr style=\"text-align: right;\">\n",
              "      <th></th>\n",
              "      <th>statistical_parity_difference</th>\n",
              "      <th>equal_opportunity_difference</th>\n",
              "      <th>average_abs_odds_difference</th>\n",
              "      <th>disparate_impact</th>\n",
              "      <th>theil_index</th>\n",
              "    </tr>\n",
              "  </thead>\n",
              "  <tbody>\n",
              "    <tr>\n",
              "      <th>objective</th>\n",
              "      <td>0.000000</td>\n",
              "      <td>0.0000</td>\n",
              "      <td>0.0000</td>\n",
              "      <td>1.000000</td>\n",
              "      <td>0.000000</td>\n",
              "    </tr>\n",
              "    <tr>\n",
              "      <th>race</th>\n",
              "      <td>0.122433</td>\n",
              "      <td>-0.0059</td>\n",
              "      <td>0.0287</td>\n",
              "      <td>1.283344</td>\n",
              "      <td>0.012196</td>\n",
              "    </tr>\n",
              "  </tbody>\n",
              "</table>\n",
              "</div>"
            ],
            "text/plain": [
              "           statistical_parity_difference  equal_opportunity_difference  \\\n",
              "objective                       0.000000                        0.0000   \n",
              "race                            0.122433                       -0.0059   \n",
              "\n",
              "           average_abs_odds_difference  disparate_impact  theil_index  \n",
              "objective                       0.0000          1.000000     0.000000  \n",
              "race                            0.0287          1.283344     0.012196  "
            ]
          },
          "metadata": {},
          "output_type": "display_data"
        },
        {
          "data": {
            "image/png": "[encoded data removed]",
            "text/plain": [
              "<Figure size 1440x288 with 5 Axes>"
            ]
          },
          "metadata": {},
          "output_type": "display_data"
        }
      ],
      "source": [
        "display(Markdown('### Bias metrics for the Race model'))\n",
        "fair = get_fair_metrics_and_plot(aif_data_test, rf_aif)"
      ]
    },
    {
      "cell_type": "markdown",
      "metadata": {
        "id": "1b4b2e56"
      },
      "source": [
        "As we can see this model is not really biased, but it can be better and for this example we will look how to mitigate those bias."
      ]
    },
    {
      "cell_type": "code",
      "execution_count": null,
      "metadata": {
        "id": "7f6402a1"
      },
      "outputs": [],
      "source": [
        "data_test = aif_data_test\n",
        "data_train = aif_data_train\n",
        "rf = rf_aif\n",
        "\n",
        "probs = rf.predict_proba(data_test.features)\n",
        "preds = rf.predict(data_test.features)\n",
        "algo_metrics = add_to_df_algo_metrics(algo_metrics, rf, fair, preds, probs, 'Origin')"
      ]
    },
    {
      "cell_type": "code",
      "execution_count": null,
      "metadata": {
        "id": "23850b41",
        "outputId": "88c3382c-0922-4df9-ce66-e637647d04a1"
      },
      "outputs": [
        {
          "data": {
            "text/html": [
              "<div>\n",
              "<style scoped>\n",
              "    .dataframe tbody tr th:only-of-type {\n",
              "        vertical-align: middle;\n",
              "    }\n",
              "\n",
              "    .dataframe tbody tr th {\n",
              "        vertical-align: top;\n",
              "    }\n",
              "\n",
              "    .dataframe thead th {\n",
              "        text-align: right;\n",
              "    }\n",
              "</style>\n",
              "<table border=\"1\" class=\"dataframe\">\n",
              "  <thead>\n",
              "    <tr style=\"text-align: right;\">\n",
              "      <th></th>\n",
              "      <th>model</th>\n",
              "      <th>fair_metrics</th>\n",
              "      <th>prediction</th>\n",
              "      <th>probs</th>\n",
              "    </tr>\n",
              "  </thead>\n",
              "  <tbody>\n",
              "    <tr>\n",
              "      <th>Origin</th>\n",
              "      <td>(DecisionTreeClassifier(max_features='auto', r...</td>\n",
              "      <td>statistical_parity_difference  equa...</td>\n",
              "      <td>[1.0, 1.0, 1.0, 1.0, 0.0, 0.0, 0.0, 0.0, 1.0, ...</td>\n",
              "      <td>[[0.16, 0.84], [0.19, 0.81], [0.11, 0.89], [0....</td>\n",
              "    </tr>\n",
              "  </tbody>\n",
              "</table>\n",
              "</div>"
            ],
            "text/plain": [
              "                                                    model  \\\n",
              "Origin  (DecisionTreeClassifier(max_features='auto', r...   \n",
              "\n",
              "                                             fair_metrics  \\\n",
              "Origin             statistical_parity_difference  equa...   \n",
              "\n",
              "                                               prediction  \\\n",
              "Origin  [1.0, 1.0, 1.0, 1.0, 0.0, 0.0, 0.0, 0.0, 1.0, ...   \n",
              "\n",
              "                                                    probs  \n",
              "Origin  [[0.16, 0.84], [0.19, 0.81], [0.11, 0.89], [0....  "
            ]
          },
          "execution_count": 24,
          "metadata": {},
          "output_type": "execute_result"
        }
      ],
      "source": [
        "algo_metrics"
      ]
    },
    {
      "cell_type": "markdown",
      "metadata": {
        "id": "71f37593"
      },
      "source": [
        "## 4.2. Other algorithms"
      ]
    },
    {
      "cell_type": "markdown",
      "metadata": {
        "id": "85ee26a2"
      },
      "source": [
        "### 4.2.2. Fairness-aware Classifier with Prejudice Remover Regularizer"
      ]
    },
    {
      "cell_type": "code",
      "execution_count": null,
      "metadata": {
        "id": "119d928a",
        "outputId": "19486c5c-fc93-4c84-af74-480955e4efd9"
      },
      "outputs": [
        {
          "data": {
            "text/plain": [
              "<Figure size 432x288 with 0 Axes>"
            ]
          },
          "metadata": {},
          "output_type": "display_data"
        }
      ],
      "source": [
        "%run A5.py"
      ]
    },
    {
      "cell_type": "code",
      "execution_count": null,
      "metadata": {
        "id": "a3bcddaf",
        "outputId": "beb43ced-d8c9-4421-90a9-7d2530a9484f"
      },
      "outputs": [
        {
          "data": {
            "text/markdown": [
              "### Check bias metrics :"
            ],
            "text/plain": [
              "<IPython.core.display.Markdown object>"
            ]
          },
          "metadata": {},
          "output_type": "display_data"
        },
        {
          "data": {
            "text/markdown": [
              "A model can be considered bias if just one of these five metrics show that this model is biased."
            ],
            "text/plain": [
              "<IPython.core.display.Markdown object>"
            ]
          },
          "metadata": {},
          "output_type": "display_data"
        },
        {
          "data": {
            "text/markdown": [
              "#### For the race attribute :"
            ],
            "text/plain": [
              "<IPython.core.display.Markdown object>"
            ]
          },
          "metadata": {},
          "output_type": "display_data"
        },
        {
          "data": {
            "text/markdown": [
              "With default thresholds, bias against unprivileged group detected in **2** out of 5 metrics"
            ],
            "text/plain": [
              "<IPython.core.display.Markdown object>"
            ]
          },
          "metadata": {},
          "output_type": "display_data"
        },
        {
          "data": {
            "text/html": [
              "<div>\n",
              "<style scoped>\n",
              "    .dataframe tbody tr th:only-of-type {\n",
              "        vertical-align: middle;\n",
              "    }\n",
              "\n",
              "    .dataframe tbody tr th {\n",
              "        vertical-align: top;\n",
              "    }\n",
              "\n",
              "    .dataframe thead th {\n",
              "        text-align: right;\n",
              "    }\n",
              "</style>\n",
              "<table border=\"1\" class=\"dataframe\">\n",
              "  <thead>\n",
              "    <tr style=\"text-align: right;\">\n",
              "      <th></th>\n",
              "      <th>statistical_parity_difference</th>\n",
              "      <th>equal_opportunity_difference</th>\n",
              "      <th>average_abs_odds_difference</th>\n",
              "      <th>disparate_impact</th>\n",
              "      <th>theil_index</th>\n",
              "    </tr>\n",
              "  </thead>\n",
              "  <tbody>\n",
              "    <tr>\n",
              "      <th>objective</th>\n",
              "      <td>0.000000</td>\n",
              "      <td>0.0</td>\n",
              "      <td>0.000000</td>\n",
              "      <td>1.000000</td>\n",
              "      <td>0.000000</td>\n",
              "    </tr>\n",
              "    <tr>\n",
              "      <th>race</th>\n",
              "      <td>0.127041</td>\n",
              "      <td>0.0</td>\n",
              "      <td>0.027352</td>\n",
              "      <td>1.294009</td>\n",
              "      <td>0.010602</td>\n",
              "    </tr>\n",
              "  </tbody>\n",
              "</table>\n",
              "</div>"
            ],
            "text/plain": [
              "           statistical_parity_difference  equal_opportunity_difference  \\\n",
              "objective                       0.000000                           0.0   \n",
              "race                            0.127041                           0.0   \n",
              "\n",
              "           average_abs_odds_difference  disparate_impact  theil_index  \n",
              "objective                     0.000000          1.000000     0.000000  \n",
              "race                          0.027352          1.294009     0.010602  "
            ]
          },
          "metadata": {},
          "output_type": "display_data"
        },
        {
          "name": "stdout",
          "output_type": "stream",
          "text": [
            "time elapsed : 14.39s\n"
          ]
        },
        {
          "data": {
            "image/png": "[encoded data removed]",
            "text/plain": [
              "<Figure size 1440x288 with 5 Axes>"
            ]
          },
          "metadata": {},
          "output_type": "display_data"
        }
      ],
      "source": [
        "t0 = time()\n",
        "debiased_model = PrejudiceRemover(sensitive_attr=\"race\", eta = 25.0)\n",
        "debiased_model.fit(data_train)\n",
        "\n",
        "fair = get_fair_metrics_and_plot(data_test, debiased_model, plot=True, model_aif=True)\n",
        "data_pred = debiased_model.predict(data_test)\n",
        "\n",
        "algo_metrics = add_to_df_algo_metrics(algo_metrics, debiased_model, fair, data_pred.labels, data_pred.scores, 'PrejudiceRemover')\n",
        "print('time elapsed : %.2fs'%(time()-t0))"
      ]
    },
    {
      "cell_type": "code",
      "execution_count": null,
      "metadata": {
        "id": "8204a1da",
        "outputId": "4cf179b9-f0c6-4be6-b8dc-818c5d771dd9"
      },
      "outputs": [
        {
          "data": {
            "text/markdown": [
              "#### Accuracy of the model :"
            ],
            "text/plain": [
              "<IPython.core.display.Markdown object>"
            ]
          },
          "metadata": {},
          "output_type": "display_data"
        },
        {
          "name": "stdout",
          "output_type": "stream",
          "text": [
            "0.9706439393939394\n"
          ]
        }
      ],
      "source": [
        "display(Markdown('#### Accuracy of the model :'))\n",
        "print(metrics.accuracy_score(data_test.labels, data_pred.labels))"
      ]
    },
    {
      "cell_type": "code",
      "execution_count": null,
      "metadata": {
        "id": "a3858612",
        "outputId": "ee2d3252-69aa-4a45-b9e7-18d8d964ccd3"
      },
      "outputs": [
        {
          "data": {
            "text/markdown": [
              "#### Calibration of the model :"
            ],
            "text/plain": [
              "<IPython.core.display.Markdown object>"
            ]
          },
          "metadata": {},
          "output_type": "display_data"
        },
        {
          "name": "stdout",
          "output_type": "stream",
          "text": [
            "-0.023587642942481613\n"
          ]
        }
      ],
      "source": [
        "df_p = data_pred.convert_to_dataframe()[0]\n",
        "df_p_AA = df_p[df_p['race']==0]\n",
        "df_p_Ca = df_p[df_p['race']==1]\n",
        "df_t = data_test.convert_to_dataframe()[0]\n",
        "df_t_AA = df_t[df_t['race']==0]\n",
        "df_t_Ca = df_t[df_t['race']==1]\n",
        "\n",
        "display(Markdown('#### Calibration of the model :'))\n",
        "print(metrics.accuracy_score(df_t_AA['two_year_recid'], df_p_AA['two_year_recid'])-\n",
        "      metrics.accuracy_score(df_t_Ca['two_year_recid'], df_p_Ca['two_year_recid']))"
      ]
    },
    {
      "cell_type": "code",
      "execution_count": null,
      "metadata": {
        "id": "fbac9c1a"
      },
      "outputs": [],
      "source": [
        "def compare_fair_metrics(algo_metrics, attr='race'):\n",
        "    \n",
        "    df_metrics = pd.DataFrame(columns=algo_metrics.loc['Origin','fair_metrics'].columns.values)\n",
        "    for fair in algo_metrics.loc[:,'fair_metrics']:\n",
        "        df_metrics = df_metrics.append(fair.loc[attr], ignore_index=True)\n",
        "\n",
        "    df_metrics.index = algo_metrics.index.values\n",
        "    df_metrics = df_metrics.replace([np.inf, -np.inf], np.NaN)\n",
        "    \n",
        "    display(df_metrics)"
      ]
    },
    {
      "cell_type": "code",
      "execution_count": null,
      "metadata": {
        "id": "34d71262",
        "outputId": "fd837e30-ff87-4e87-aa29-8791f65e169b"
      },
      "outputs": [
        {
          "data": {
            "text/html": [
              "<div>\n",
              "<style scoped>\n",
              "    .dataframe tbody tr th:only-of-type {\n",
              "        vertical-align: middle;\n",
              "    }\n",
              "\n",
              "    .dataframe tbody tr th {\n",
              "        vertical-align: top;\n",
              "    }\n",
              "\n",
              "    .dataframe thead th {\n",
              "        text-align: right;\n",
              "    }\n",
              "</style>\n",
              "<table border=\"1\" class=\"dataframe\">\n",
              "  <thead>\n",
              "    <tr style=\"text-align: right;\">\n",
              "      <th></th>\n",
              "      <th>statistical_parity_difference</th>\n",
              "      <th>equal_opportunity_difference</th>\n",
              "      <th>average_abs_odds_difference</th>\n",
              "      <th>disparate_impact</th>\n",
              "      <th>theil_index</th>\n",
              "    </tr>\n",
              "  </thead>\n",
              "  <tbody>\n",
              "    <tr>\n",
              "      <th>Origin</th>\n",
              "      <td>0.122433</td>\n",
              "      <td>-0.0059</td>\n",
              "      <td>0.028700</td>\n",
              "      <td>1.283344</td>\n",
              "      <td>0.012196</td>\n",
              "    </tr>\n",
              "    <tr>\n",
              "      <th>PrejudiceRemover</th>\n",
              "      <td>0.127041</td>\n",
              "      <td>0.0000</td>\n",
              "      <td>0.027352</td>\n",
              "      <td>1.294009</td>\n",
              "      <td>0.010602</td>\n",
              "    </tr>\n",
              "  </tbody>\n",
              "</table>\n",
              "</div>"
            ],
            "text/plain": [
              "                  statistical_parity_difference  equal_opportunity_difference  \\\n",
              "Origin                                 0.122433                       -0.0059   \n",
              "PrejudiceRemover                       0.127041                        0.0000   \n",
              "\n",
              "                  average_abs_odds_difference  disparate_impact  theil_index  \n",
              "Origin                               0.028700          1.283344     0.012196  \n",
              "PrejudiceRemover                     0.027352          1.294009     0.010602  "
            ]
          },
          "metadata": {},
          "output_type": "display_data"
        }
      ],
      "source": [
        "compare_fair_metrics(algo_metrics)"
      ]
    }
  ]
}