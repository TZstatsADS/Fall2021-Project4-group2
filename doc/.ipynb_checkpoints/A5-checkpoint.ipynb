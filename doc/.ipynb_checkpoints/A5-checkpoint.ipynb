{
 "cells": [
  {
   "cell_type": "markdown",
   "id": "1994e982",
   "metadata": {},
   "source": [
    "# 1. Load and prepare data\n",
    "## 1.1 Load libraries"
   ]
  },
  {
   "cell_type": "code",
   "execution_count": 1,
   "id": "661db83d",
   "metadata": {},
   "outputs": [
    {
     "data": {
      "text/html": [
       "        <script type=\"text/javascript\">\n",
       "        window.PlotlyConfig = {MathJaxConfig: 'local'};\n",
       "        if (window.MathJax) {MathJax.Hub.Config({SVG: {font: \"STIX-Web\"}});}\n",
       "        if (typeof require !== 'undefined') {\n",
       "        require.undef(\"plotly\");\n",
       "        requirejs.config({\n",
       "            paths: {\n",
       "                'plotly': ['https://cdn.plot.ly/plotly-2.6.3.min']\n",
       "            }\n",
       "        });\n",
       "        require(['plotly'], function(Plotly) {\n",
       "            window._Plotly = Plotly;\n",
       "        });\n",
       "        }\n",
       "        </script>\n",
       "        "
      ]
     },
     "metadata": {},
     "output_type": "display_data"
    }
   ],
   "source": [
    "%matplotlib inline\n",
    "# data manipulation libraries\n",
    "import pandas as pd\n",
    "import numpy as np\n",
    "\n",
    "from time import time\n",
    "\n",
    "# Graphs libraries\n",
    "import matplotlib\n",
    "import matplotlib.pyplot as plt\n",
    "import matplotlib.patches as patches\n",
    "plt.style.use('seaborn-white')\n",
    "import seaborn as sns\n",
    "\n",
    "import plotly.offline as py\n",
    "py.init_notebook_mode(connected=True)\n",
    "import plotly.graph_objs as go\n",
    "import plotly.tools as tls\n",
    "import plotly.figure_factory as ff\n",
    "from plotly import tools\n",
    "\n",
    "# Libraries to study\n",
    "from aif360.datasets import BinaryLabelDataset\n",
    "from aif360.metrics import BinaryLabelDatasetMetric, ClassificationMetric\n",
    "#from aif360.algorithms.inprocessing import PrejudiceRemover\n",
    "\n",
    "# ML libraries\n",
    "from sklearn import metrics\n",
    "from sklearn.metrics import confusion_matrix, accuracy_score, f1_score, roc_curve, auc\n",
    "from sklearn.preprocessing import MinMaxScaler, LabelEncoder\n",
    "from sklearn.ensemble import RandomForestClassifier\n",
    "import tensorflow as tf\n",
    "\n",
    "# Design libraries\n",
    "from IPython.display import Markdown, display\n",
    "import warnings\n",
    "warnings.filterwarnings(\"ignore\")"
   ]
  },
  {
   "cell_type": "markdown",
   "id": "7c61c24d",
   "metadata": {},
   "source": [
    "## 1.2. Load the data\n",
    "We read previous work conducted by ProPublica and we simply write a dataset called **csty_filtered.csv** which containing all filtered features from the first part of [this analysis](https://github.com/propublica/compas-analysis/blob/master/Compas%20Analysis.ipynb). The whole description can be found [here](https://www.propublica.org/article/how-we-analyzed-the-compas-recidivism-algorithm). We also create a new feature **length_of_stay** which stands for the duration between **c_jail_in** and **c_jail_out** in days."
   ]
  },
  {
   "cell_type": "code",
   "execution_count": 2,
   "id": "4cd12fea",
   "metadata": {},
   "outputs": [],
   "source": [
    "compas = pd.read_csv('../output/csty_filtered.csv')\n",
    "data = compas[(compas['race'] == 'Caucasian') | (compas['race'] == 'African-American')]"
   ]
  },
  {
   "cell_type": "markdown",
   "id": "050cc2e0",
   "metadata": {},
   "source": [
    "# 2. Data preparation\n",
    "## 2.1. Prepare the data"
   ]
  },
  {
   "cell_type": "code",
   "execution_count": 3,
   "id": "b56b32e1",
   "metadata": {},
   "outputs": [],
   "source": [
    "Y_column = ['two_year_recid']\n",
    "cat_columns = []\n",
    "num_columns = []\n",
    "\n",
    "for col in data.columns.values:\n",
    "    if col in Y_column:\n",
    "        continue\n",
    "    elif data[col].dtypes == 'int64':\n",
    "        num_columns += [col]\n",
    "    else:\n",
    "        cat_columns += [col]"
   ]
  },
  {
   "cell_type": "markdown",
   "id": "f8ea0116",
   "metadata": {},
   "source": [
    "## 2.2. Work with the feature\n",
    "### 2.2.1. Encoding categorical features"
   ]
  },
  {
   "cell_type": "code",
   "execution_count": 4,
   "id": "0cd8244b",
   "metadata": {},
   "outputs": [],
   "source": [
    "categorical_features = cat_columns + ['two_year_recid']\n",
    "# categorical_features = categorical_features \n",
    "categorical_features_idx = [np.where(data.columns.values == col)[0][0] for col in categorical_features]\n",
    "\n",
    "del cat_columns"
   ]
  },
  {
   "cell_type": "code",
   "execution_count": 5,
   "id": "feb07e0c",
   "metadata": {},
   "outputs": [],
   "source": [
    "data_encoded = data.copy()\n",
    "\n",
    "categorical_names = {}\n",
    "encoders = {}\n",
    "\n",
    "# Use Label Encoder for categorical columns (including target column)\n",
    "for feature in categorical_features:\n",
    "    le = LabelEncoder()\n",
    "    le.fit(data_encoded[feature])\n",
    "    \n",
    "    data_encoded[feature] = le.transform(data_encoded[feature])\n",
    "    \n",
    "    categorical_names[feature] = le.classes_\n",
    "    encoders[feature] = le"
   ]
  },
  {
   "cell_type": "markdown",
   "id": "aa3be299",
   "metadata": {},
   "source": [
    "### 2.2.2. Scale numerical features\n",
    "We use MinMaxScaler Transform here."
   ]
  },
  {
   "cell_type": "code",
   "execution_count": 6,
   "id": "adac482a",
   "metadata": {},
   "outputs": [],
   "source": [
    "numerical_features = [c for c in data.columns.values if c not in categorical_features]\n",
    "\n",
    "for feature in numerical_features:\n",
    "    val = data_encoded[feature].values[:, np.newaxis]\n",
    "    mms = MinMaxScaler().fit(val)\n",
    "    data_encoded[feature] = mms.transform(val)\n",
    "    encoders[feature] = mms\n",
    "    \n",
    "data_encoded = data_encoded.astype(float)\n",
    "\n",
    "del num_columns"
   ]
  },
  {
   "cell_type": "code",
   "execution_count": 7,
   "id": "c3ac64e7",
   "metadata": {},
   "outputs": [
    {
     "data": {
      "text/html": [
       "<div>\n",
       "<style scoped>\n",
       "    .dataframe tbody tr th:only-of-type {\n",
       "        vertical-align: middle;\n",
       "    }\n",
       "\n",
       "    .dataframe tbody tr th {\n",
       "        vertical-align: top;\n",
       "    }\n",
       "\n",
       "    .dataframe thead th {\n",
       "        text-align: right;\n",
       "    }\n",
       "</style>\n",
       "<table border=\"1\" class=\"dataframe\">\n",
       "  <thead>\n",
       "    <tr style=\"text-align: right;\">\n",
       "      <th></th>\n",
       "      <th>age</th>\n",
       "      <th>c_charge_degree</th>\n",
       "      <th>race</th>\n",
       "      <th>age_cat</th>\n",
       "      <th>score_text</th>\n",
       "      <th>sex</th>\n",
       "      <th>priors_count</th>\n",
       "      <th>days_b_screening_arrest</th>\n",
       "      <th>decile_score</th>\n",
       "      <th>is_recid</th>\n",
       "      <th>two_year_recid</th>\n",
       "      <th>length_of_stay</th>\n",
       "    </tr>\n",
       "  </thead>\n",
       "  <tbody>\n",
       "    <tr>\n",
       "      <th>1</th>\n",
       "      <td>0.258065</td>\n",
       "      <td>0.0</td>\n",
       "      <td>0.0</td>\n",
       "      <td>0.0</td>\n",
       "      <td>1.0</td>\n",
       "      <td>1.0</td>\n",
       "      <td>0.000000</td>\n",
       "      <td>0.483333</td>\n",
       "      <td>0.222222</td>\n",
       "      <td>1.0</td>\n",
       "      <td>1.0</td>\n",
       "      <td>0.01250</td>\n",
       "    </tr>\n",
       "    <tr>\n",
       "      <th>2</th>\n",
       "      <td>0.096774</td>\n",
       "      <td>0.0</td>\n",
       "      <td>0.0</td>\n",
       "      <td>2.0</td>\n",
       "      <td>1.0</td>\n",
       "      <td>1.0</td>\n",
       "      <td>0.105263</td>\n",
       "      <td>0.483333</td>\n",
       "      <td>0.333333</td>\n",
       "      <td>1.0</td>\n",
       "      <td>1.0</td>\n",
       "      <td>0.00125</td>\n",
       "    </tr>\n",
       "    <tr>\n",
       "      <th>4</th>\n",
       "      <td>0.370968</td>\n",
       "      <td>0.0</td>\n",
       "      <td>1.0</td>\n",
       "      <td>0.0</td>\n",
       "      <td>2.0</td>\n",
       "      <td>1.0</td>\n",
       "      <td>0.368421</td>\n",
       "      <td>0.483333</td>\n",
       "      <td>0.555556</td>\n",
       "      <td>1.0</td>\n",
       "      <td>1.0</td>\n",
       "      <td>0.00750</td>\n",
       "    </tr>\n",
       "    <tr>\n",
       "      <th>6</th>\n",
       "      <td>0.338710</td>\n",
       "      <td>1.0</td>\n",
       "      <td>1.0</td>\n",
       "      <td>0.0</td>\n",
       "      <td>1.0</td>\n",
       "      <td>0.0</td>\n",
       "      <td>0.000000</td>\n",
       "      <td>0.483333</td>\n",
       "      <td>0.000000</td>\n",
       "      <td>0.0</td>\n",
       "      <td>0.0</td>\n",
       "      <td>0.00375</td>\n",
       "    </tr>\n",
       "    <tr>\n",
       "      <th>7</th>\n",
       "      <td>0.145161</td>\n",
       "      <td>0.0</td>\n",
       "      <td>1.0</td>\n",
       "      <td>0.0</td>\n",
       "      <td>1.0</td>\n",
       "      <td>1.0</td>\n",
       "      <td>0.000000</td>\n",
       "      <td>0.483333</td>\n",
       "      <td>0.333333</td>\n",
       "      <td>0.0</td>\n",
       "      <td>0.0</td>\n",
       "      <td>0.00125</td>\n",
       "    </tr>\n",
       "  </tbody>\n",
       "</table>\n",
       "</div>"
      ],
      "text/plain": [
       "        age  c_charge_degree  race  age_cat  score_text  sex  priors_count  \\\n",
       "1  0.258065              0.0   0.0      0.0         1.0  1.0      0.000000   \n",
       "2  0.096774              0.0   0.0      2.0         1.0  1.0      0.105263   \n",
       "4  0.370968              0.0   1.0      0.0         2.0  1.0      0.368421   \n",
       "6  0.338710              1.0   1.0      0.0         1.0  0.0      0.000000   \n",
       "7  0.145161              0.0   1.0      0.0         1.0  1.0      0.000000   \n",
       "\n",
       "   days_b_screening_arrest  decile_score  is_recid  two_year_recid  \\\n",
       "1                 0.483333      0.222222       1.0             1.0   \n",
       "2                 0.483333      0.333333       1.0             1.0   \n",
       "4                 0.483333      0.555556       1.0             1.0   \n",
       "6                 0.483333      0.000000       0.0             0.0   \n",
       "7                 0.483333      0.333333       0.0             0.0   \n",
       "\n",
       "   length_of_stay  \n",
       "1         0.01250  \n",
       "2         0.00125  \n",
       "4         0.00750  \n",
       "6         0.00375  \n",
       "7         0.00125  "
      ]
     },
     "execution_count": 7,
     "metadata": {},
     "output_type": "execute_result"
    }
   ],
   "source": [
    "data_encoded.head()"
   ]
  },
  {
   "cell_type": "code",
   "execution_count": 8,
   "id": "8c809864",
   "metadata": {},
   "outputs": [
    {
     "data": {
      "text/html": [
       "<div>\n",
       "<style scoped>\n",
       "    .dataframe tbody tr th:only-of-type {\n",
       "        vertical-align: middle;\n",
       "    }\n",
       "\n",
       "    .dataframe tbody tr th {\n",
       "        vertical-align: top;\n",
       "    }\n",
       "\n",
       "    .dataframe thead th {\n",
       "        text-align: right;\n",
       "    }\n",
       "</style>\n",
       "<table border=\"1\" class=\"dataframe\">\n",
       "  <thead>\n",
       "    <tr style=\"text-align: right;\">\n",
       "      <th></th>\n",
       "      <th>age</th>\n",
       "      <th>c_charge_degree</th>\n",
       "      <th>race</th>\n",
       "      <th>age_cat</th>\n",
       "      <th>score_text</th>\n",
       "      <th>sex</th>\n",
       "      <th>priors_count</th>\n",
       "      <th>days_b_screening_arrest</th>\n",
       "      <th>decile_score</th>\n",
       "      <th>is_recid</th>\n",
       "      <th>two_year_recid</th>\n",
       "      <th>length_of_stay</th>\n",
       "    </tr>\n",
       "  </thead>\n",
       "  <tbody>\n",
       "    <tr>\n",
       "      <th>1</th>\n",
       "      <td>34</td>\n",
       "      <td>F</td>\n",
       "      <td>African-American</td>\n",
       "      <td>25 - 45</td>\n",
       "      <td>Low</td>\n",
       "      <td>Male</td>\n",
       "      <td>0</td>\n",
       "      <td>-1</td>\n",
       "      <td>3</td>\n",
       "      <td>1</td>\n",
       "      <td>1</td>\n",
       "      <td>10</td>\n",
       "    </tr>\n",
       "    <tr>\n",
       "      <th>2</th>\n",
       "      <td>24</td>\n",
       "      <td>F</td>\n",
       "      <td>African-American</td>\n",
       "      <td>Less than 25</td>\n",
       "      <td>Low</td>\n",
       "      <td>Male</td>\n",
       "      <td>4</td>\n",
       "      <td>-1</td>\n",
       "      <td>4</td>\n",
       "      <td>1</td>\n",
       "      <td>1</td>\n",
       "      <td>1</td>\n",
       "    </tr>\n",
       "    <tr>\n",
       "      <th>4</th>\n",
       "      <td>41</td>\n",
       "      <td>F</td>\n",
       "      <td>Caucasian</td>\n",
       "      <td>25 - 45</td>\n",
       "      <td>Medium</td>\n",
       "      <td>Male</td>\n",
       "      <td>14</td>\n",
       "      <td>-1</td>\n",
       "      <td>6</td>\n",
       "      <td>1</td>\n",
       "      <td>1</td>\n",
       "      <td>6</td>\n",
       "    </tr>\n",
       "    <tr>\n",
       "      <th>6</th>\n",
       "      <td>39</td>\n",
       "      <td>M</td>\n",
       "      <td>Caucasian</td>\n",
       "      <td>25 - 45</td>\n",
       "      <td>Low</td>\n",
       "      <td>Female</td>\n",
       "      <td>0</td>\n",
       "      <td>-1</td>\n",
       "      <td>1</td>\n",
       "      <td>0</td>\n",
       "      <td>0</td>\n",
       "      <td>3</td>\n",
       "    </tr>\n",
       "    <tr>\n",
       "      <th>7</th>\n",
       "      <td>27</td>\n",
       "      <td>F</td>\n",
       "      <td>Caucasian</td>\n",
       "      <td>25 - 45</td>\n",
       "      <td>Low</td>\n",
       "      <td>Male</td>\n",
       "      <td>0</td>\n",
       "      <td>-1</td>\n",
       "      <td>4</td>\n",
       "      <td>0</td>\n",
       "      <td>0</td>\n",
       "      <td>1</td>\n",
       "    </tr>\n",
       "  </tbody>\n",
       "</table>\n",
       "</div>"
      ],
      "text/plain": [
       "   age c_charge_degree              race       age_cat score_text     sex  \\\n",
       "1   34               F  African-American       25 - 45        Low    Male   \n",
       "2   24               F  African-American  Less than 25        Low    Male   \n",
       "4   41               F         Caucasian       25 - 45     Medium    Male   \n",
       "6   39               M         Caucasian       25 - 45        Low  Female   \n",
       "7   27               F         Caucasian       25 - 45        Low    Male   \n",
       "\n",
       "   priors_count  days_b_screening_arrest  decile_score  is_recid  \\\n",
       "1             0                       -1             3         1   \n",
       "2             4                       -1             4         1   \n",
       "4            14                       -1             6         1   \n",
       "6             0                       -1             1         0   \n",
       "7             0                       -1             4         0   \n",
       "\n",
       "   two_year_recid  length_of_stay  \n",
       "1               1              10  \n",
       "2               1               1  \n",
       "4               1               6  \n",
       "6               0               3  \n",
       "7               0               1  "
      ]
     },
     "execution_count": 8,
     "metadata": {},
     "output_type": "execute_result"
    }
   ],
   "source": [
    "data.head()"
   ]
  },
  {
   "cell_type": "markdown",
   "id": "bd1ef178",
   "metadata": {},
   "source": [
    "# 3. AIF360 Introduction\n",
    "## 3.1. Create dataset useing aif360"
   ]
  },
  {
   "cell_type": "code",
   "execution_count": 9,
   "id": "94833606",
   "metadata": {},
   "outputs": [],
   "source": [
    "aif_data = BinaryLabelDataset(df=data_encoded,\n",
    "                              label_names=['two_year_recid'],\n",
    "                              protected_attribute_names=['race'],\n",
    "                              favorable_label=1.0,\n",
    "                              unfavorable_label=0.0)"
   ]
  },
  {
   "cell_type": "code",
   "execution_count": 10,
   "id": "fe871203",
   "metadata": {},
   "outputs": [],
   "source": [
    "def meta_data(dataset):\n",
    "    # print out some labels, names, etc.\n",
    "    display(Markdown(\"#### Dataset shape\"))\n",
    "    print(dataset.features.shape)\n",
    "    display(Markdown(\"#### Favorable and unfavorable labels\"))\n",
    "    print(dataset.favorable_label, dataset.unfavorable_label)\n",
    "    display(Markdown(\"#### Protected attribute names\"))\n",
    "    print(dataset.protected_attribute_names)\n",
    "    display(Markdown(\"#### Privileged and unprivileged protected attribute values\"))\n",
    "    print(dataset.privileged_protected_attributes, dataset.unprivileged_protected_attributes)\n",
    "    display(Markdown(\"#### Dataset feature names\"))\n",
    "    print(dataset.feature_names)"
   ]
  },
  {
   "cell_type": "code",
   "execution_count": 11,
   "id": "271c981e",
   "metadata": {},
   "outputs": [
    {
     "data": {
      "text/markdown": [
       "#### Dataset shape"
      ],
      "text/plain": [
       "<IPython.core.display.Markdown object>"
      ]
     },
     "metadata": {},
     "output_type": "display_data"
    },
    {
     "name": "stdout",
     "output_type": "stream",
     "text": [
      "(5278, 11)\n"
     ]
    },
    {
     "data": {
      "text/markdown": [
       "#### Favorable and unfavorable labels"
      ],
      "text/plain": [
       "<IPython.core.display.Markdown object>"
      ]
     },
     "metadata": {},
     "output_type": "display_data"
    },
    {
     "name": "stdout",
     "output_type": "stream",
     "text": [
      "1.0 0.0\n"
     ]
    },
    {
     "data": {
      "text/markdown": [
       "#### Protected attribute names"
      ],
      "text/plain": [
       "<IPython.core.display.Markdown object>"
      ]
     },
     "metadata": {},
     "output_type": "display_data"
    },
    {
     "name": "stdout",
     "output_type": "stream",
     "text": [
      "['race']\n"
     ]
    },
    {
     "data": {
      "text/markdown": [
       "#### Privileged and unprivileged protected attribute values"
      ],
      "text/plain": [
       "<IPython.core.display.Markdown object>"
      ]
     },
     "metadata": {},
     "output_type": "display_data"
    },
    {
     "name": "stdout",
     "output_type": "stream",
     "text": [
      "[array([1.])] [array([0.])]\n"
     ]
    },
    {
     "data": {
      "text/markdown": [
       "#### Dataset feature names"
      ],
      "text/plain": [
       "<IPython.core.display.Markdown object>"
      ]
     },
     "metadata": {},
     "output_type": "display_data"
    },
    {
     "name": "stdout",
     "output_type": "stream",
     "text": [
      "['age', 'c_charge_degree', 'race', 'age_cat', 'score_text', 'sex', 'priors_count', 'days_b_screening_arrest', 'decile_score', 'is_recid', 'length_of_stay']\n"
     ]
    }
   ],
   "source": [
    "meta_data(aif_data)"
   ]
  },
  {
   "cell_type": "markdown",
   "id": "87a7c61c",
   "metadata": {},
   "source": [
    "## 3.2. Random Forest Model\n",
    "We construct a random forest model as our baseline. Usually, random forest model does not require a validation set, so we just create train and test set in a ratio of 4:1."
   ]
  },
  {
   "cell_type": "code",
   "execution_count": 12,
   "id": "17fa832d",
   "metadata": {},
   "outputs": [
    {
     "data": {
      "text/markdown": [
       "#### Train Dataset shape"
      ],
      "text/plain": [
       "<IPython.core.display.Markdown object>"
      ]
     },
     "metadata": {},
     "output_type": "display_data"
    },
    {
     "name": "stdout",
     "output_type": "stream",
     "text": [
      "Race: (4222, 11)\n"
     ]
    },
    {
     "data": {
      "text/markdown": [
       "#### Test Dataset shape"
      ],
      "text/plain": [
       "<IPython.core.display.Markdown object>"
      ]
     },
     "metadata": {},
     "output_type": "display_data"
    },
    {
     "name": "stdout",
     "output_type": "stream",
     "text": [
      "Race: (1056, 11)\n"
     ]
    }
   ],
   "source": [
    "np.random.seed(20211208)\n",
    "\n",
    "aif_data_train, aif_data_test = aif_data.split([0.8], shuffle=True)\n",
    "\n",
    "display(Markdown(\"#### Train Dataset shape\"))\n",
    "print(\"Race:\",aif_data_train.features.shape)\n",
    "display(Markdown(\"#### Test Dataset shape\"))\n",
    "print(\"Race:\",aif_data_test.features.shape)"
   ]
  },
  {
   "cell_type": "code",
   "execution_count": 13,
   "id": "c4ba6a69",
   "metadata": {},
   "outputs": [],
   "source": [
    "# Train and save the models\n",
    "rf_aif = RandomForestClassifier().fit(aif_data_train.features,\n",
    "                                      aif_data_train.labels.ravel(),\n",
    "                                      sample_weight=aif_data_train.instance_weights)"
   ]
  },
  {
   "cell_type": "code",
   "execution_count": 14,
   "id": "e24cf7ed",
   "metadata": {},
   "outputs": [],
   "source": [
    "X_test = aif_data_test.features\n",
    "y_test = aif_data_test.labels.ravel()"
   ]
  },
  {
   "cell_type": "code",
   "execution_count": 15,
   "id": "97ce3565",
   "metadata": {},
   "outputs": [],
   "source": [
    "# This code is based on https://www.kaggle.com/nathanlauga/ethics-and-ai-how-to-prevent-bias-on-ml?scriptVersionId=20652099&cellId=83\n",
    "def get_model_performance(X_test, y_true, y_pred, probs):\n",
    "    accuracy = accuracy_score(y_true, y_pred)\n",
    "    matrix = confusion_matrix(y_true, y_pred)\n",
    "    f1 = f1_score(y_true, y_pred)\n",
    "    preds = probs[:, 1]\n",
    "    fpr, tpr, threshold = roc_curve(y_true, preds)\n",
    "    roc_auc = auc(fpr, tpr)\n",
    "\n",
    "    return accuracy, matrix, f1, fpr, tpr, roc_auc\n",
    "\n",
    "def plot_model_performance(model, X_test, y_true):\n",
    "    y_pred = model.predict(X_test)\n",
    "    probs = model.predict_proba(X_test)\n",
    "    accuracy, matrix, f1, fpr, tpr, roc_auc = get_model_performance(X_test, y_true, y_pred, probs)\n",
    "\n",
    "    display(Markdown('#### Accuracy of the model :'))\n",
    "    print(accuracy)\n",
    "    display(Markdown('#### F1 score of the model :'))\n",
    "    print(f1)\n",
    "\n",
    "    fig = plt.figure(figsize=(15, 6))\n",
    "    ax = fig.add_subplot(1, 2, 1)\n",
    "    sns.heatmap(matrix, annot=True, cmap='Blues', fmt='g')\n",
    "    plt.title('Confusion Matrix')\n",
    "\n",
    "    ax = fig.add_subplot(1, 2, 2)\n",
    "    lw = 2\n",
    "    plt.plot(fpr, tpr, color='darkorange', lw=lw, label='ROC curve (area = %0.2f)' % roc_auc)\n",
    "    plt.plot([0, 1], [0, 1], color='navy', lw=lw, linestyle='--')\n",
    "    plt.xlim([0.0, 1.0])\n",
    "    plt.ylim([0.0, 1.05])\n",
    "    plt.xlabel('False Positive Rate')\n",
    "    plt.ylabel('True Positive Rate')\n",
    "    plt.title('Receiver Operating Characteristic curve')\n",
    "    plt.legend(loc=\"lower right\")"
   ]
  },
  {
   "cell_type": "code",
   "execution_count": 16,
   "id": "7bd1a402",
   "metadata": {},
   "outputs": [
    {
     "data": {
      "text/markdown": [
       "#### Accuracy of the model :"
      ],
      "text/plain": [
       "<IPython.core.display.Markdown object>"
      ]
     },
     "metadata": {},
     "output_type": "display_data"
    },
    {
     "name": "stdout",
     "output_type": "stream",
     "text": [
      "0.9696969696969697\n"
     ]
    },
    {
     "data": {
      "text/markdown": [
       "#### F1 score of the model :"
      ],
      "text/plain": [
       "<IPython.core.display.Markdown object>"
      ]
     },
     "metadata": {},
     "output_type": "display_data"
    },
    {
     "name": "stdout",
     "output_type": "stream",
     "text": [
      "0.9693486590038314\n"
     ]
    },
    {
     "data": {
      "image/png": "[encoded data removed]",
      "text/plain": [
       "<Figure size 1080x432 with 3 Axes>"
      ]
     },
     "metadata": {},
     "output_type": "display_data"
    }
   ],
   "source": [
    "plot_model_performance(rf_aif, aif_data_test.features, y_test)"
   ]
  },
  {
   "cell_type": "code",
   "execution_count": 17,
   "id": "0f5fddf8",
   "metadata": {},
   "outputs": [],
   "source": [
    "np.random.seed(20211208)\n",
    "\n",
    "aif_data_tr, aif_data_te = aif_data.split([0.8], shuffle=True)\n",
    "\n",
    "aif_tr = aif_data_tr.convert_to_dataframe()[0]\n",
    "aif_te = aif_data_te.convert_to_dataframe()[0]\n",
    "\n",
    "rf_aift = RandomForestClassifier().fit(aif_tr[['age', 'c_charge_degree', 'race', 'age_cat', 'score_text', 'sex', \n",
    "                                               'priors_count', 'days_b_screening_arrest', 'decile_score', 'is_recid', \n",
    "                                               'length_of_stay']],\n",
    "                                       aif_tr['two_year_recid'],\n",
    "                                       sample_weight=aif_data_train.instance_weights)\n",
    "\n",
    "X_test = aif_te[['age', 'c_charge_degree', 'race', 'age_cat', 'score_text', 'sex', 'priors_count', 'days_b_screening_arrest',\n",
    "                 'decile_score', 'is_recid', 'length_of_stay']]\n",
    "y_test = aif_te['two_year_recid']"
   ]
  },
  {
   "cell_type": "code",
   "execution_count": 18,
   "id": "abda4099",
   "metadata": {},
   "outputs": [
    {
     "data": {
      "text/markdown": [
       "#### Calibration of the model :"
      ],
      "text/plain": [
       "<IPython.core.display.Markdown object>"
      ]
     },
     "metadata": {},
     "output_type": "display_data"
    },
    {
     "name": "stdout",
     "output_type": "stream",
     "text": [
      "-0.0251237412527735\n"
     ]
    }
   ],
   "source": [
    "y_pred_AA = rf_aift.predict(X_test[X_test['race']==0])\n",
    "y_pred_Ca = rf_aift.predict(X_test[X_test['race']==1])\n",
    "y_test_AA = aif_te[aif_te['race']==0]['two_year_recid']\n",
    "y_test_Ca = aif_te[aif_te['race']==1]['two_year_recid']\n",
    "\n",
    "display(Markdown('#### Calibration of the model :'))\n",
    "print(metrics.accuracy_score(y_test_AA, y_pred_AA)-metrics.accuracy_score(y_test_Ca, y_pred_Ca))"
   ]
  },
  {
   "cell_type": "markdown",
   "id": "a2cf6d34",
   "metadata": {},
   "source": [
    "The baseline model has some really good metrics.\n",
    "# 4. Bias and fairness\n",
    "## 4.1 Metrics\n",
    "AIF360 provides some metrics for us to check model fairness. I will use 5 metrics:\n",
    "* Statistical Parity Difference\n",
    "* Equal Opportunity Difference\n",
    "* Average Absolute Odds Difference\n",
    "* Disparate Impact\n",
    "* Theil Index"
   ]
  },
  {
   "cell_type": "code",
   "execution_count": 19,
   "id": "bed60956",
   "metadata": {},
   "outputs": [],
   "source": [
    "# This DataFrame is created to stock differents models and fair metrics that we produce in this notebook\n",
    "algo_metrics = pd.DataFrame(columns=['model', 'fair_metrics', 'prediction', 'probs'])\n",
    "\n",
    "def add_to_df_algo_metrics(algo_metrics, model, fair_metrics, preds, probs, name):\n",
    "    return algo_metrics.append(pd.DataFrame(data=[[model, fair_metrics, preds, probs]], columns=['model', 'fair_metrics', 'prediction', 'probs'], index=[name]))"
   ]
  },
  {
   "cell_type": "code",
   "execution_count": 20,
   "id": "9b7df9eb",
   "metadata": {},
   "outputs": [],
   "source": [
    "# This code is based on https://www.kaggle.com/nathanlauga/ethics-and-ai-how-to-prevent-bias-on-ml?scriptVersionId=20652099&cellId=87\n",
    "def fair_metrics(dataset, pred, pred_is_dataset=False):\n",
    "    if pred_is_dataset:\n",
    "        dataset_pred = pred\n",
    "    else:\n",
    "        dataset_pred = dataset.copy()\n",
    "        dataset_pred.labels = pred\n",
    "    \n",
    "    cols = ['statistical_parity_difference', 'equal_opportunity_difference', 'average_abs_odds_difference',  'disparate_impact', 'theil_index']\n",
    "    obj_fairness = [[0,0,0,1,0]]\n",
    "    \n",
    "    fair_metrics = pd.DataFrame(data=obj_fairness, index=['objective'], columns=cols)\n",
    "    \n",
    "    for attr in dataset_pred.protected_attribute_names:\n",
    "        idx = dataset_pred.protected_attribute_names.index(attr)\n",
    "        privileged_groups =  [{attr:dataset_pred.privileged_protected_attributes[idx][0]}] \n",
    "        unprivileged_groups = [{attr:dataset_pred.unprivileged_protected_attributes[idx][0]}] \n",
    "        \n",
    "        classified_metric = ClassificationMetric(dataset, \n",
    "                                                     dataset_pred,\n",
    "                                                     unprivileged_groups=unprivileged_groups,\n",
    "                                                     privileged_groups=privileged_groups)\n",
    "        \n",
    "        metric_pred = BinaryLabelDatasetMetric(dataset_pred,\n",
    "                                                     unprivileged_groups=unprivileged_groups,\n",
    "                                                     privileged_groups=privileged_groups)\n",
    "\n",
    "        acc = classified_metric.accuracy()\n",
    "        \n",
    "        row = pd.DataFrame([[metric_pred.mean_difference(),\n",
    "                                classified_metric.equal_opportunity_difference(),\n",
    "                                classified_metric.average_abs_odds_difference(),\n",
    "                                metric_pred.disparate_impact(),\n",
    "                                classified_metric.theil_index()]],\n",
    "                           columns  = cols,\n",
    "                           index = [attr]\n",
    "                          )\n",
    "        fair_metrics = fair_metrics.append(row)    \n",
    "    \n",
    "    fair_metrics = fair_metrics.replace([-np.inf, np.inf], 2)\n",
    "        \n",
    "    return fair_metrics\n",
    "\n",
    "def plot_fair_metrics(fair_metrics):\n",
    "    fig, ax = plt.subplots(figsize=(20,4), ncols=5, nrows=1)\n",
    "\n",
    "    plt.subplots_adjust(\n",
    "        left    =  0.125, \n",
    "        bottom  =  0.1, \n",
    "        right   =  0.9, \n",
    "        top     =  0.9, \n",
    "        wspace  =  .5, \n",
    "        hspace  =  1.1\n",
    "    )\n",
    "\n",
    "    y_title_margin = 1.2\n",
    "\n",
    "    plt.suptitle(\"Fairness metrics\", y = 1.09, fontsize=20)\n",
    "    sns.set(style=\"dark\")\n",
    "\n",
    "    cols = fair_metrics.columns.values\n",
    "    obj = fair_metrics.loc['objective']\n",
    "    size_rect = [0.2,0.2,0.2,0.4,0.25]\n",
    "    rect = [-0.1,-0.1,-0.1,0.8,0]\n",
    "    bottom = [-1,-1,-1,0,0]\n",
    "    top = [1,1,1,2,1]\n",
    "    bound = [[-0.1,0.1],[-0.1,0.1],[-0.1,0.1],[0.8,1.2],[0,0.25]]\n",
    "\n",
    "    display(Markdown(\"### Check bias metrics :\"))\n",
    "    display(Markdown(\"A model can be considered bias if just one of these five metrics show that this model is biased.\"))\n",
    "    for attr in fair_metrics.index[1:len(fair_metrics)].values:\n",
    "        display(Markdown(\"#### For the %s attribute :\"%attr))\n",
    "        check = [bound[i][0] < fair_metrics.loc[attr][i] < bound[i][1] for i in range(0,5)]\n",
    "        display(Markdown(\"With default thresholds, bias against unprivileged group detected in **%d** out of 5 metrics\"%(5 - sum(check))))\n",
    "\n",
    "    for i in range(0,5):\n",
    "        plt.subplot(1, 5, i+1)\n",
    "        ax = sns.barplot(x=fair_metrics.index[1:len(fair_metrics)], y=fair_metrics.iloc[1:len(fair_metrics)][cols[i]])\n",
    "        \n",
    "        for j in range(0,len(fair_metrics)-1):\n",
    "            a, val = ax.patches[j], fair_metrics.iloc[j+1][cols[i]]\n",
    "            marg = -0.2 if val < 0 else 0.1\n",
    "            ax.text(a.get_x()+a.get_width()/5, a.get_y()+a.get_height()+marg, round(val, 3), fontsize=15,color='black')\n",
    "\n",
    "        plt.ylim(bottom[i], top[i])\n",
    "        plt.setp(ax.patches, linewidth=0)\n",
    "        ax.add_patch(patches.Rectangle((-5,rect[i]), 10, size_rect[i], alpha=0.3, facecolor=\"green\", linewidth=1, linestyle='solid'))\n",
    "        plt.axhline(obj[i], color='black', alpha=0.3)\n",
    "        plt.title(cols[i])\n",
    "        ax.set_ylabel('')    \n",
    "        ax.set_xlabel('')"
   ]
  },
  {
   "cell_type": "code",
   "execution_count": 21,
   "id": "f0b3dd6b",
   "metadata": {},
   "outputs": [],
   "source": [
    "# This code is based on https://www.kaggle.com/nathanlauga/ethics-and-ai-how-to-prevent-bias-on-ml?scriptVersionId=20652099&cellId=88\n",
    "def get_fair_metrics_and_plot(data, model, plot=True, model_aif=False):\n",
    "    pred = model.predict(data).labels if model_aif else model.predict(data.features)\n",
    "    # fair_metrics function available in the metrics.py file\n",
    "    fair = fair_metrics(data, pred)\n",
    "    \n",
    "    if plot:\n",
    "        # plot_fair_metrics function available in the visualisations.py file\n",
    "        # The visualisation of this function is inspired by the dashboard on the demo of IBM aif360 \n",
    "        plot_fair_metrics(fair)\n",
    "        display(fair)\n",
    "    \n",
    "    return fair"
   ]
  },
  {
   "cell_type": "code",
   "execution_count": 22,
   "id": "23d3547b",
   "metadata": {},
   "outputs": [
    {
     "data": {
      "text/markdown": [
       "### Bias metrics for the Race model"
      ],
      "text/plain": [
       "<IPython.core.display.Markdown object>"
      ]
     },
     "metadata": {},
     "output_type": "display_data"
    },
    {
     "data": {
      "text/markdown": [
       "### Check bias metrics :"
      ],
      "text/plain": [
       "<IPython.core.display.Markdown object>"
      ]
     },
     "metadata": {},
     "output_type": "display_data"
    },
    {
     "data": {
      "text/markdown": [
       "A model can be considered bias if just one of these five metrics show that this model is biased."
      ],
      "text/plain": [
       "<IPython.core.display.Markdown object>"
      ]
     },
     "metadata": {},
     "output_type": "display_data"
    },
    {
     "data": {
      "text/markdown": [
       "#### For the race attribute :"
      ],
      "text/plain": [
       "<IPython.core.display.Markdown object>"
      ]
     },
     "metadata": {},
     "output_type": "display_data"
    },
    {
     "data": {
      "text/markdown": [
       "With default thresholds, bias against unprivileged group detected in **2** out of 5 metrics"
      ],
      "text/plain": [
       "<IPython.core.display.Markdown object>"
      ]
     },
     "metadata": {},
     "output_type": "display_data"
    },
    {
     "data": {
      "text/html": [
       "<div>\n",
       "<style scoped>\n",
       "    .dataframe tbody tr th:only-of-type {\n",
       "        vertical-align: middle;\n",
       "    }\n",
       "\n",
       "    .dataframe tbody tr th {\n",
       "        vertical-align: top;\n",
       "    }\n",
       "\n",
       "    .dataframe thead th {\n",
       "        text-align: right;\n",
       "    }\n",
       "</style>\n",
       "<table border=\"1\" class=\"dataframe\">\n",
       "  <thead>\n",
       "    <tr style=\"text-align: right;\">\n",
       "      <th></th>\n",
       "      <th>statistical_parity_difference</th>\n",
       "      <th>equal_opportunity_difference</th>\n",
       "      <th>average_abs_odds_difference</th>\n",
       "      <th>disparate_impact</th>\n",
       "      <th>theil_index</th>\n",
       "    </tr>\n",
       "  </thead>\n",
       "  <tbody>\n",
       "    <tr>\n",
       "      <th>objective</th>\n",
       "      <td>0.000000</td>\n",
       "      <td>0.0000</td>\n",
       "      <td>0.0000</td>\n",
       "      <td>1.000000</td>\n",
       "      <td>0.000000</td>\n",
       "    </tr>\n",
       "    <tr>\n",
       "      <th>race</th>\n",
       "      <td>0.122433</td>\n",
       "      <td>-0.0059</td>\n",
       "      <td>0.0287</td>\n",
       "      <td>1.283344</td>\n",
       "      <td>0.012196</td>\n",
       "    </tr>\n",
       "  </tbody>\n",
       "</table>\n",
       "</div>"
      ],
      "text/plain": [
       "           statistical_parity_difference  equal_opportunity_difference  \\\n",
       "objective                       0.000000                        0.0000   \n",
       "race                            0.122433                       -0.0059   \n",
       "\n",
       "           average_abs_odds_difference  disparate_impact  theil_index  \n",
       "objective                       0.0000          1.000000     0.000000  \n",
       "race                            0.0287          1.283344     0.012196  "
      ]
     },
     "metadata": {},
     "output_type": "display_data"
    },
    {
     "data": {
      "image/png": "[encoded data removed]",
      "text/plain": [
       "<Figure size 1440x288 with 5 Axes>"
      ]
     },
     "metadata": {},
     "output_type": "display_data"
    }
   ],
   "source": [
    "display(Markdown('### Bias metrics for the Race model'))\n",
    "fair = get_fair_metrics_and_plot(aif_data_test, rf_aif)"
   ]
  },
  {
   "cell_type": "markdown",
   "id": "9fef4c1b",
   "metadata": {},
   "source": [
    "As we can see this model is not really biased, but it can be better and for this example we will look how to mitigate those bias."
   ]
  },
  {
   "cell_type": "code",
   "execution_count": 23,
   "id": "c9347906",
   "metadata": {},
   "outputs": [],
   "source": [
    "data_test = aif_data_test\n",
    "data_train = aif_data_train\n",
    "rf = rf_aif\n",
    "\n",
    "probs = rf.predict_proba(data_test.features)\n",
    "preds = rf.predict(data_test.features)\n",
    "algo_metrics = add_to_df_algo_metrics(algo_metrics, rf, fair, preds, probs, 'Origin')"
   ]
  },
  {
   "cell_type": "code",
   "execution_count": 24,
   "id": "c1f2e337",
   "metadata": {},
   "outputs": [
    {
     "data": {
      "text/html": [
       "<div>\n",
       "<style scoped>\n",
       "    .dataframe tbody tr th:only-of-type {\n",
       "        vertical-align: middle;\n",
       "    }\n",
       "\n",
       "    .dataframe tbody tr th {\n",
       "        vertical-align: top;\n",
       "    }\n",
       "\n",
       "    .dataframe thead th {\n",
       "        text-align: right;\n",
       "    }\n",
       "</style>\n",
       "<table border=\"1\" class=\"dataframe\">\n",
       "  <thead>\n",
       "    <tr style=\"text-align: right;\">\n",
       "      <th></th>\n",
       "      <th>model</th>\n",
       "      <th>fair_metrics</th>\n",
       "      <th>prediction</th>\n",
       "      <th>probs</th>\n",
       "    </tr>\n",
       "  </thead>\n",
       "  <tbody>\n",
       "    <tr>\n",
       "      <th>Origin</th>\n",
       "      <td>(DecisionTreeClassifier(max_features='auto', r...</td>\n",
       "      <td>statistical_parity_difference  equa...</td>\n",
       "      <td>[1.0, 1.0, 1.0, 1.0, 0.0, 0.0, 0.0, 0.0, 1.0, ...</td>\n",
       "      <td>[[0.16, 0.84], [0.19, 0.81], [0.11, 0.89], [0....</td>\n",
       "    </tr>\n",
       "  </tbody>\n",
       "</table>\n",
       "</div>"
      ],
      "text/plain": [
       "                                                    model  \\\n",
       "Origin  (DecisionTreeClassifier(max_features='auto', r...   \n",
       "\n",
       "                                             fair_metrics  \\\n",
       "Origin             statistical_parity_difference  equa...   \n",
       "\n",
       "                                               prediction  \\\n",
       "Origin  [1.0, 1.0, 1.0, 1.0, 0.0, 0.0, 0.0, 0.0, 1.0, ...   \n",
       "\n",
       "                                                    probs  \n",
       "Origin  [[0.16, 0.84], [0.19, 0.81], [0.11, 0.89], [0....  "
      ]
     },
     "execution_count": 24,
     "metadata": {},
     "output_type": "execute_result"
    }
   ],
   "source": [
    "algo_metrics"
   ]
  },
  {
   "cell_type": "markdown",
   "id": "8d6de0b7",
   "metadata": {},
   "source": [
    "## 4.2. Other algorithms"
   ]
  },
  {
   "cell_type": "markdown",
   "id": "38ab962a",
   "metadata": {},
   "source": [
    "### 4.2.2. Fairness-aware Classifier with Prejudice Remover Regularizer"
   ]
  },
  {
   "cell_type": "code",
   "execution_count": 25,
   "id": "62d51514",
   "metadata": {},
   "outputs": [
    {
     "data": {
      "text/plain": [
       "<Figure size 432x288 with 0 Axes>"
      ]
     },
     "metadata": {},
     "output_type": "display_data"
    }
   ],
   "source": [
    "%run A5.py"
   ]
  },
  {
   "cell_type": "code",
   "execution_count": 26,
   "id": "c16a5726",
   "metadata": {},
   "outputs": [
    {
     "name": "stdout",
     "output_type": "stream",
     "text": [
      "time elapsed : 13.96s\n"
     ]
    }
   ],
   "source": [
    "t0 = time()\n",
    "debiased_model = PrejudiceRemover(sensitive_attr=\"race\", eta = 25.0)\n",
    "debiased_model.fit(data_train)\n",
    "\n",
    "fair = get_fair_metrics_and_plot(data_test, debiased_model, plot=False, model_aif=True)\n",
    "data_pred = debiased_model.predict(data_test)\n",
    "\n",
    "algo_metrics = add_to_df_algo_metrics(algo_metrics, debiased_model, fair, data_pred.labels, data_pred.scores, 'PrejudiceRemover')\n",
    "print('time elapsed : %.2fs'%(time()-t0))"
   ]
  },
  {
   "cell_type": "code",
   "execution_count": 27,
   "id": "d1e381e6",
   "metadata": {},
   "outputs": [
    {
     "data": {
      "text/markdown": [
       "#### Accuracy of the model :"
      ],
      "text/plain": [
       "<IPython.core.display.Markdown object>"
      ]
     },
     "metadata": {},
     "output_type": "display_data"
    },
    {
     "name": "stdout",
     "output_type": "stream",
     "text": [
      "0.9706439393939394\n"
     ]
    }
   ],
   "source": [
    "display(Markdown('#### Accuracy of the model :'))\n",
    "print(metrics.accuracy_score(data_test.labels, data_pred.labels))"
   ]
  },
  {
   "cell_type": "code",
   "execution_count": 28,
   "id": "9680abdc",
   "metadata": {},
   "outputs": [
    {
     "data": {
      "text/markdown": [
       "#### Calibration of the model :"
      ],
      "text/plain": [
       "<IPython.core.display.Markdown object>"
      ]
     },
     "metadata": {},
     "output_type": "display_data"
    },
    {
     "name": "stdout",
     "output_type": "stream",
     "text": [
      "-0.023587642942481613\n"
     ]
    }
   ],
   "source": [
    "df_p = data_pred.convert_to_dataframe()[0]\n",
    "df_p_AA = df_p[df_p['race']==0]\n",
    "df_p_Ca = df_p[df_p['race']==1]\n",
    "df_t = data_test.convert_to_dataframe()[0]\n",
    "df_t_AA = df_t[df_t['race']==0]\n",
    "df_t_Ca = df_t[df_t['race']==1]\n",
    "\n",
    "display(Markdown('#### Calibration of the model :'))\n",
    "print(metrics.accuracy_score(df_t_AA['two_year_recid'], df_p_AA['two_year_recid'])-\n",
    "      metrics.accuracy_score(df_t_Ca['two_year_recid'], df_p_Ca['two_year_recid']))"
   ]
  },
  {
   "cell_type": "code",
   "execution_count": 30,
   "id": "6e004c9e",
   "metadata": {},
   "outputs": [],
   "source": [
    "def compare_fair_metrics(algo_metrics, attr='race'):\n",
    "    \n",
    "    df_metrics = pd.DataFrame(columns=algo_metrics.loc['Origin','fair_metrics'].columns.values)\n",
    "    for fair in algo_metrics.loc[:,'fair_metrics']:\n",
    "        df_metrics = df_metrics.append(fair.loc[attr], ignore_index=True)\n",
    "\n",
    "    df_metrics.index = algo_metrics.index.values\n",
    "    df_metrics = df_metrics.replace([np.inf, -np.inf], np.NaN)\n",
    "    \n",
    "    display(df_metrics)"
   ]
  },
  {
   "cell_type": "code",
   "execution_count": 31,
   "id": "82da70b7",
   "metadata": {},
   "outputs": [
    {
     "data": {
      "text/html": [
       "<div>\n",
       "<style scoped>\n",
       "    .dataframe tbody tr th:only-of-type {\n",
       "        vertical-align: middle;\n",
       "    }\n",
       "\n",
       "    .dataframe tbody tr th {\n",
       "        vertical-align: top;\n",
       "    }\n",
       "\n",
       "    .dataframe thead th {\n",
       "        text-align: right;\n",
       "    }\n",
       "</style>\n",
       "<table border=\"1\" class=\"dataframe\">\n",
       "  <thead>\n",
       "    <tr style=\"text-align: right;\">\n",
       "      <th></th>\n",
       "      <th>statistical_parity_difference</th>\n",
       "      <th>equal_opportunity_difference</th>\n",
       "      <th>average_abs_odds_difference</th>\n",
       "      <th>disparate_impact</th>\n",
       "      <th>theil_index</th>\n",
       "    </tr>\n",
       "  </thead>\n",
       "  <tbody>\n",
       "    <tr>\n",
       "      <th>Origin</th>\n",
       "      <td>0.122433</td>\n",
       "      <td>-0.0059</td>\n",
       "      <td>0.028700</td>\n",
       "      <td>1.283344</td>\n",
       "      <td>0.012196</td>\n",
       "    </tr>\n",
       "    <tr>\n",
       "      <th>PrejudiceRemover</th>\n",
       "      <td>0.127041</td>\n",
       "      <td>0.0000</td>\n",
       "      <td>0.027352</td>\n",
       "      <td>1.294009</td>\n",
       "      <td>0.010602</td>\n",
       "    </tr>\n",
       "  </tbody>\n",
       "</table>\n",
       "</div>"
      ],
      "text/plain": [
       "                  statistical_parity_difference  equal_opportunity_difference  \\\n",
       "Origin                                 0.122433                       -0.0059   \n",
       "PrejudiceRemover                       0.127041                        0.0000   \n",
       "\n",
       "                  average_abs_odds_difference  disparate_impact  theil_index  \n",
       "Origin                               0.028700          1.283344     0.012196  \n",
       "PrejudiceRemover                     0.027352          1.294009     0.010602  "
      ]
     },
     "metadata": {},
     "output_type": "display_data"
    }
   ],
   "source": [
    "compare_fair_metrics(algo_metrics)"
   ]
  }
 ],
 "metadata": {
  "kernelspec": {
   "display_name": "Python 3",
   "language": "python",
   "name": "python3"
  },
  "language_info": {
   "codemirror_mode": {
    "name": "ipython",
    "version": 3
   },
   "file_extension": ".py",
   "mimetype": "text/x-python",
   "name": "python",
   "nbconvert_exporter": "python",
   "pygments_lexer": "ipython3",
   "version": "3.8.8"
  }
 },
 "nbformat": 4,
 "nbformat_minor": 5
}
